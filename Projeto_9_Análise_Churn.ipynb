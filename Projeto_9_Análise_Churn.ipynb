{
 "cells": [
  {
   "cell_type": "markdown",
   "metadata": {
    "id": "uWLP09IcEBrZ"
   },
   "source": [
    "# Importação de Libs e carregamento dos dados"
   ]
  },
  {
   "cell_type": "code",
   "execution_count": 2,
   "metadata": {
    "id": "m78TP6h-EBrb"
   },
   "outputs": [],
   "source": [
    "import pandas as pd\n",
    "import numpy as np\n",
    "import matplotlib.pyplot as plt\n",
    "import seaborn as sns\n",
    "\n",
    "\n",
    "from sklearn.metrics import accuracy_score, f1_score, roc_auc_score\n",
    "from sklearn.ensemble import RandomForestClassifier\n",
    "from sklearn.model_selection import train_test_split\n",
    "from sklearn.model_selection import GridSearchCV,StratifiedKFold\n",
    "from sklearn.model_selection import cross_val_score\n",
    "from sklearn.preprocessing import StandardScaler\n",
    "from sklearn.tree import DecisionTreeClassifier\n",
    "from sklearn.linear_model import LogisticRegression\n",
    "from sklearn.utils import shuffle\n",
    "\n",
    "\n",
    "\n",
    "from sklearn.pipeline import Pipeline\n"
   ]
  },
  {
   "cell_type": "code",
   "execution_count": 3,
   "metadata": {
    "id": "4RZ8MranEBrd"
   },
   "outputs": [],
   "source": [
    "data = pd.read_csv('./datasets/Churn.csv')"
   ]
  },
  {
   "cell_type": "markdown",
   "metadata": {
    "id": "fEB_n2dPEBrd"
   },
   "source": [
    "## Análise da qualidade dos dados"
   ]
  },
  {
   "cell_type": "code",
   "execution_count": 4,
   "metadata": {
    "colab": {
     "base_uri": "https://localhost:8080/",
     "height": 206
    },
    "id": "8wQx6-tfEBrd",
    "outputId": "fa590d7a-40bf-4a74-8de4-46d80f6ebbfb"
   },
   "outputs": [
    {
     "data": {
      "text/html": [
       "<div>\n",
       "<style scoped>\n",
       "    .dataframe tbody tr th:only-of-type {\n",
       "        vertical-align: middle;\n",
       "    }\n",
       "\n",
       "    .dataframe tbody tr th {\n",
       "        vertical-align: top;\n",
       "    }\n",
       "\n",
       "    .dataframe thead th {\n",
       "        text-align: right;\n",
       "    }\n",
       "</style>\n",
       "<table border=\"1\" class=\"dataframe\">\n",
       "  <thead>\n",
       "    <tr style=\"text-align: right;\">\n",
       "      <th></th>\n",
       "      <th>RowNumber</th>\n",
       "      <th>CustomerId</th>\n",
       "      <th>Surname</th>\n",
       "      <th>CreditScore</th>\n",
       "      <th>Geography</th>\n",
       "      <th>Gender</th>\n",
       "      <th>Age</th>\n",
       "      <th>Tenure</th>\n",
       "      <th>Balance</th>\n",
       "      <th>NumOfProducts</th>\n",
       "      <th>HasCrCard</th>\n",
       "      <th>IsActiveMember</th>\n",
       "      <th>EstimatedSalary</th>\n",
       "      <th>Exited</th>\n",
       "    </tr>\n",
       "  </thead>\n",
       "  <tbody>\n",
       "    <tr>\n",
       "      <th>0</th>\n",
       "      <td>1</td>\n",
       "      <td>15634602</td>\n",
       "      <td>Hargrave</td>\n",
       "      <td>619</td>\n",
       "      <td>France</td>\n",
       "      <td>Female</td>\n",
       "      <td>42</td>\n",
       "      <td>2.0</td>\n",
       "      <td>0.00</td>\n",
       "      <td>1</td>\n",
       "      <td>1</td>\n",
       "      <td>1</td>\n",
       "      <td>101348.88</td>\n",
       "      <td>1</td>\n",
       "    </tr>\n",
       "    <tr>\n",
       "      <th>1</th>\n",
       "      <td>2</td>\n",
       "      <td>15647311</td>\n",
       "      <td>Hill</td>\n",
       "      <td>608</td>\n",
       "      <td>Spain</td>\n",
       "      <td>Female</td>\n",
       "      <td>41</td>\n",
       "      <td>1.0</td>\n",
       "      <td>83807.86</td>\n",
       "      <td>1</td>\n",
       "      <td>0</td>\n",
       "      <td>1</td>\n",
       "      <td>112542.58</td>\n",
       "      <td>0</td>\n",
       "    </tr>\n",
       "    <tr>\n",
       "      <th>2</th>\n",
       "      <td>3</td>\n",
       "      <td>15619304</td>\n",
       "      <td>Onio</td>\n",
       "      <td>502</td>\n",
       "      <td>France</td>\n",
       "      <td>Female</td>\n",
       "      <td>42</td>\n",
       "      <td>8.0</td>\n",
       "      <td>159660.80</td>\n",
       "      <td>3</td>\n",
       "      <td>1</td>\n",
       "      <td>0</td>\n",
       "      <td>113931.57</td>\n",
       "      <td>1</td>\n",
       "    </tr>\n",
       "    <tr>\n",
       "      <th>3</th>\n",
       "      <td>4</td>\n",
       "      <td>15701354</td>\n",
       "      <td>Boni</td>\n",
       "      <td>699</td>\n",
       "      <td>France</td>\n",
       "      <td>Female</td>\n",
       "      <td>39</td>\n",
       "      <td>1.0</td>\n",
       "      <td>0.00</td>\n",
       "      <td>2</td>\n",
       "      <td>0</td>\n",
       "      <td>0</td>\n",
       "      <td>93826.63</td>\n",
       "      <td>0</td>\n",
       "    </tr>\n",
       "    <tr>\n",
       "      <th>4</th>\n",
       "      <td>5</td>\n",
       "      <td>15737888</td>\n",
       "      <td>Mitchell</td>\n",
       "      <td>850</td>\n",
       "      <td>Spain</td>\n",
       "      <td>Female</td>\n",
       "      <td>43</td>\n",
       "      <td>2.0</td>\n",
       "      <td>125510.82</td>\n",
       "      <td>1</td>\n",
       "      <td>1</td>\n",
       "      <td>1</td>\n",
       "      <td>79084.10</td>\n",
       "      <td>0</td>\n",
       "    </tr>\n",
       "  </tbody>\n",
       "</table>\n",
       "</div>"
      ],
      "text/plain": [
       "   RowNumber  CustomerId   Surname  CreditScore Geography  Gender  Age  \\\n",
       "0          1    15634602  Hargrave          619    France  Female   42   \n",
       "1          2    15647311      Hill          608     Spain  Female   41   \n",
       "2          3    15619304      Onio          502    France  Female   42   \n",
       "3          4    15701354      Boni          699    France  Female   39   \n",
       "4          5    15737888  Mitchell          850     Spain  Female   43   \n",
       "\n",
       "   Tenure    Balance  NumOfProducts  HasCrCard  IsActiveMember  \\\n",
       "0     2.0       0.00              1          1               1   \n",
       "1     1.0   83807.86              1          0               1   \n",
       "2     8.0  159660.80              3          1               0   \n",
       "3     1.0       0.00              2          0               0   \n",
       "4     2.0  125510.82              1          1               1   \n",
       "\n",
       "   EstimatedSalary  Exited  \n",
       "0        101348.88       1  \n",
       "1        112542.58       0  \n",
       "2        113931.57       1  \n",
       "3         93826.63       0  \n",
       "4         79084.10       0  "
      ]
     },
     "execution_count": 4,
     "metadata": {},
     "output_type": "execute_result"
    }
   ],
   "source": [
    "data.head()"
   ]
  },
  {
   "cell_type": "code",
   "execution_count": 5,
   "metadata": {
    "colab": {
     "base_uri": "https://localhost:8080/"
    },
    "id": "QgXTxS7gEBre",
    "outputId": "e9c990f7-76b3-47be-91ff-30204a4d2a89"
   },
   "outputs": [
    {
     "name": "stdout",
     "output_type": "stream",
     "text": [
      "<class 'pandas.core.frame.DataFrame'>\n",
      "RangeIndex: 10000 entries, 0 to 9999\n",
      "Data columns (total 14 columns):\n",
      " #   Column           Non-Null Count  Dtype  \n",
      "---  ------           --------------  -----  \n",
      " 0   RowNumber        10000 non-null  int64  \n",
      " 1   CustomerId       10000 non-null  int64  \n",
      " 2   Surname          10000 non-null  object \n",
      " 3   CreditScore      10000 non-null  int64  \n",
      " 4   Geography        10000 non-null  object \n",
      " 5   Gender           10000 non-null  object \n",
      " 6   Age              10000 non-null  int64  \n",
      " 7   Tenure           9091 non-null   float64\n",
      " 8   Balance          10000 non-null  float64\n",
      " 9   NumOfProducts    10000 non-null  int64  \n",
      " 10  HasCrCard        10000 non-null  int64  \n",
      " 11  IsActiveMember   10000 non-null  int64  \n",
      " 12  EstimatedSalary  10000 non-null  float64\n",
      " 13  Exited           10000 non-null  int64  \n",
      "dtypes: float64(3), int64(8), object(3)\n",
      "memory usage: 1.1+ MB\n"
     ]
    }
   ],
   "source": [
    "data.info()"
   ]
  },
  {
   "cell_type": "code",
   "execution_count": 6,
   "metadata": {
    "colab": {
     "base_uri": "https://localhost:8080/"
    },
    "id": "wYelHMfnEBre",
    "outputId": "58cf2e93-6f84-43cd-f68b-ad664e58ace8"
   },
   "outputs": [
    {
     "data": {
      "text/plain": [
       "0"
      ]
     },
     "execution_count": 6,
     "metadata": {},
     "output_type": "execute_result"
    }
   ],
   "source": [
    "# Verificar se há valores duplicados\n",
    "data.duplicated().sum()"
   ]
  },
  {
   "cell_type": "code",
   "execution_count": 7,
   "metadata": {
    "colab": {
     "base_uri": "https://localhost:8080/"
    },
    "id": "twnQkl7OEBre",
    "outputId": "42bfab31-46f6-417d-dcc5-32c46301218c"
   },
   "outputs": [
    {
     "data": {
      "text/plain": [
       "False    9091\n",
       "True      909\n",
       "Name: Tenure, dtype: int64"
      ]
     },
     "execution_count": 7,
     "metadata": {},
     "output_type": "execute_result"
    }
   ],
   "source": [
    "(data\n",
    " .Tenure\n",
    " .isnull()\n",
    " .value_counts()\n",
    " )\n"
   ]
  },
  {
   "cell_type": "code",
   "execution_count": 8,
   "metadata": {
    "id": "T3ZU1Ub8EBre"
   },
   "outputs": [],
   "source": [
    "# Deletar linhas que contenham NaN\n",
    "data_nan = data.dropna(subset=['Tenure'])"
   ]
  },
  {
   "cell_type": "code",
   "execution_count": 9,
   "metadata": {
    "colab": {
     "base_uri": "https://localhost:8080/",
     "height": 223
    },
    "id": "GpPfI0tqEBrf",
    "outputId": "63c575bd-9b82-469d-9b2d-e0097cd12fda"
   },
   "outputs": [
    {
     "data": {
      "text/html": [
       "<div>\n",
       "<style scoped>\n",
       "    .dataframe tbody tr th:only-of-type {\n",
       "        vertical-align: middle;\n",
       "    }\n",
       "\n",
       "    .dataframe tbody tr th {\n",
       "        vertical-align: top;\n",
       "    }\n",
       "\n",
       "    .dataframe thead th {\n",
       "        text-align: right;\n",
       "    }\n",
       "</style>\n",
       "<table border=\"1\" class=\"dataframe\">\n",
       "  <thead>\n",
       "    <tr style=\"text-align: right;\">\n",
       "      <th></th>\n",
       "      <th>CreditScore</th>\n",
       "      <th>Geography</th>\n",
       "      <th>Gender</th>\n",
       "      <th>Age</th>\n",
       "      <th>Tenure</th>\n",
       "      <th>Balance</th>\n",
       "      <th>NumOfProducts</th>\n",
       "      <th>HasCrCard</th>\n",
       "      <th>IsActiveMember</th>\n",
       "      <th>EstimatedSalary</th>\n",
       "      <th>Exited</th>\n",
       "    </tr>\n",
       "  </thead>\n",
       "  <tbody>\n",
       "    <tr>\n",
       "      <th>0</th>\n",
       "      <td>619</td>\n",
       "      <td>France</td>\n",
       "      <td>Female</td>\n",
       "      <td>42</td>\n",
       "      <td>2.0</td>\n",
       "      <td>0.00</td>\n",
       "      <td>1</td>\n",
       "      <td>1</td>\n",
       "      <td>1</td>\n",
       "      <td>101348.88</td>\n",
       "      <td>1</td>\n",
       "    </tr>\n",
       "    <tr>\n",
       "      <th>1</th>\n",
       "      <td>608</td>\n",
       "      <td>Spain</td>\n",
       "      <td>Female</td>\n",
       "      <td>41</td>\n",
       "      <td>1.0</td>\n",
       "      <td>83807.86</td>\n",
       "      <td>1</td>\n",
       "      <td>0</td>\n",
       "      <td>1</td>\n",
       "      <td>112542.58</td>\n",
       "      <td>0</td>\n",
       "    </tr>\n",
       "    <tr>\n",
       "      <th>2</th>\n",
       "      <td>502</td>\n",
       "      <td>France</td>\n",
       "      <td>Female</td>\n",
       "      <td>42</td>\n",
       "      <td>8.0</td>\n",
       "      <td>159660.80</td>\n",
       "      <td>3</td>\n",
       "      <td>1</td>\n",
       "      <td>0</td>\n",
       "      <td>113931.57</td>\n",
       "      <td>1</td>\n",
       "    </tr>\n",
       "    <tr>\n",
       "      <th>3</th>\n",
       "      <td>699</td>\n",
       "      <td>France</td>\n",
       "      <td>Female</td>\n",
       "      <td>39</td>\n",
       "      <td>1.0</td>\n",
       "      <td>0.00</td>\n",
       "      <td>2</td>\n",
       "      <td>0</td>\n",
       "      <td>0</td>\n",
       "      <td>93826.63</td>\n",
       "      <td>0</td>\n",
       "    </tr>\n",
       "    <tr>\n",
       "      <th>4</th>\n",
       "      <td>850</td>\n",
       "      <td>Spain</td>\n",
       "      <td>Female</td>\n",
       "      <td>43</td>\n",
       "      <td>2.0</td>\n",
       "      <td>125510.82</td>\n",
       "      <td>1</td>\n",
       "      <td>1</td>\n",
       "      <td>1</td>\n",
       "      <td>79084.10</td>\n",
       "      <td>0</td>\n",
       "    </tr>\n",
       "  </tbody>\n",
       "</table>\n",
       "</div>"
      ],
      "text/plain": [
       "   CreditScore Geography  Gender  Age  Tenure    Balance  NumOfProducts  \\\n",
       "0          619    France  Female   42     2.0       0.00              1   \n",
       "1          608     Spain  Female   41     1.0   83807.86              1   \n",
       "2          502    France  Female   42     8.0  159660.80              3   \n",
       "3          699    France  Female   39     1.0       0.00              2   \n",
       "4          850     Spain  Female   43     2.0  125510.82              1   \n",
       "\n",
       "   HasCrCard  IsActiveMember  EstimatedSalary  Exited  \n",
       "0          1               1        101348.88       1  \n",
       "1          0               1        112542.58       0  \n",
       "2          1               0        113931.57       1  \n",
       "3          0               0         93826.63       0  \n",
       "4          1               1         79084.10       0  "
      ]
     },
     "metadata": {},
     "output_type": "display_data"
    },
    {
     "name": "stdout",
     "output_type": "stream",
     "text": [
      "(9091, 11)\n"
     ]
    }
   ],
   "source": [
    "# Excluir colunas que não serão necessárias\n",
    "data_cleaned = data_nan.drop(columns=['RowNumber','CustomerId','Surname'])\n",
    "display(data_cleaned.head())\n",
    "print(data_cleaned.shape)"
   ]
  },
  {
   "cell_type": "code",
   "execution_count": 10,
   "metadata": {
    "colab": {
     "base_uri": "https://localhost:8080/",
     "height": 472
    },
    "id": "uXpy89oHdcZY",
    "outputId": "42ac5a26-d149-4500-bcf3-7490151f2a41"
   },
   "outputs": [
    {
     "data": {
      "image/png": "[encoded data removed]",
      "text/plain": [
       "<Figure size 640x480 with 1 Axes>"
      ]
     },
     "metadata": {},
     "output_type": "display_data"
    }
   ],
   "source": [
    "exited_gender = data_cleaned.groupby('Gender')['Exited'].sum()\n",
    "sns.barplot(x=exited_gender.index, y=exited_gender.values)\n",
    "plt.title('Número de Saídas por Gênero')\n",
    "plt.xlabel('Gênero')\n",
    "plt.ylabel('Número de Saídas')\n",
    "plt.show()"
   ]
  },
  {
   "cell_type": "code",
   "execution_count": 11,
   "metadata": {
    "colab": {
     "base_uri": "https://localhost:8080/",
     "height": 472
    },
    "id": "P9Px_Lq3eYbX",
    "outputId": "53c99170-e37e-42bd-8b94-bbf4f5ffa44f"
   },
   "outputs": [
    {
     "data": {
      "image/png": "[encoded data removed]",
      "text/plain": [
       "<Figure size 640x480 with 1 Axes>"
      ]
     },
     "metadata": {},
     "output_type": "display_data"
    }
   ],
   "source": [
    "exited_countries = data_cleaned.groupby('Geography')['Exited'].sum()\n",
    "sns.barplot(x=exited_countries.index, y=exited_countries.values)\n",
    "plt.title('Número de Saídas por País')\n",
    "plt.xlabel('País')\n",
    "plt.ylabel('Número de Saídas')\n",
    "plt.show()"
   ]
  },
  {
   "cell_type": "code",
   "execution_count": 12,
   "metadata": {
    "colab": {
     "base_uri": "https://localhost:8080/"
    },
    "id": "0OGos9mHEBrf",
    "outputId": "68e5cbdc-94bf-4470-a339-82190722c330"
   },
   "outputs": [
    {
     "data": {
      "text/plain": [
       "0    7237\n",
       "1    1854\n",
       "Name: Exited, dtype: int64"
      ]
     },
     "execution_count": 12,
     "metadata": {},
     "output_type": "execute_result"
    }
   ],
   "source": [
    "# Verificando o peso das classes\n",
    "\n",
    "(data_cleaned\n",
    " .Exited\n",
    " .value_counts()\n",
    "\n",
    " )"
   ]
  },
  {
   "cell_type": "markdown",
   "metadata": {
    "id": "PON8SmwDEBrf"
   },
   "source": [
    "As classes estão desbalanceadas, sendo que os clientes que saíram do banco corespondem a aproximadamente 20% do dados analisados."
   ]
  },
  {
   "cell_type": "markdown",
   "metadata": {
    "id": "coXViBlAEBrf"
   },
   "source": [
    "## Processando os dados: Utilizando o pd.get_dummies para transformar as categorias Gender e Geography em números para possibilitar sua utilização nos modelos."
   ]
  },
  {
   "cell_type": "code",
   "execution_count": 13,
   "metadata": {
    "colab": {
     "base_uri": "https://localhost:8080/",
     "height": 443
    },
    "id": "hR441sD1EBrg",
    "outputId": "087dcfd9-861f-485f-aae4-c49b66ceecf2"
   },
   "outputs": [
    {
     "data": {
      "text/html": [
       "<div>\n",
       "<style scoped>\n",
       "    .dataframe tbody tr th:only-of-type {\n",
       "        vertical-align: middle;\n",
       "    }\n",
       "\n",
       "    .dataframe tbody tr th {\n",
       "        vertical-align: top;\n",
       "    }\n",
       "\n",
       "    .dataframe thead th {\n",
       "        text-align: right;\n",
       "    }\n",
       "</style>\n",
       "<table border=\"1\" class=\"dataframe\">\n",
       "  <thead>\n",
       "    <tr style=\"text-align: right;\">\n",
       "      <th></th>\n",
       "      <th>CreditScore</th>\n",
       "      <th>Age</th>\n",
       "      <th>Tenure</th>\n",
       "      <th>Balance</th>\n",
       "      <th>NumOfProducts</th>\n",
       "      <th>HasCrCard</th>\n",
       "      <th>IsActiveMember</th>\n",
       "      <th>EstimatedSalary</th>\n",
       "      <th>Exited</th>\n",
       "      <th>Geography_France</th>\n",
       "      <th>Geography_Germany</th>\n",
       "      <th>Geography_Spain</th>\n",
       "      <th>Gender_Female</th>\n",
       "      <th>Gender_Male</th>\n",
       "    </tr>\n",
       "  </thead>\n",
       "  <tbody>\n",
       "    <tr>\n",
       "      <th>0</th>\n",
       "      <td>619</td>\n",
       "      <td>42</td>\n",
       "      <td>2.0</td>\n",
       "      <td>0.00</td>\n",
       "      <td>1</td>\n",
       "      <td>1</td>\n",
       "      <td>1</td>\n",
       "      <td>101348.88</td>\n",
       "      <td>1</td>\n",
       "      <td>1</td>\n",
       "      <td>0</td>\n",
       "      <td>0</td>\n",
       "      <td>1</td>\n",
       "      <td>0</td>\n",
       "    </tr>\n",
       "    <tr>\n",
       "      <th>1</th>\n",
       "      <td>608</td>\n",
       "      <td>41</td>\n",
       "      <td>1.0</td>\n",
       "      <td>83807.86</td>\n",
       "      <td>1</td>\n",
       "      <td>0</td>\n",
       "      <td>1</td>\n",
       "      <td>112542.58</td>\n",
       "      <td>0</td>\n",
       "      <td>0</td>\n",
       "      <td>0</td>\n",
       "      <td>1</td>\n",
       "      <td>1</td>\n",
       "      <td>0</td>\n",
       "    </tr>\n",
       "    <tr>\n",
       "      <th>2</th>\n",
       "      <td>502</td>\n",
       "      <td>42</td>\n",
       "      <td>8.0</td>\n",
       "      <td>159660.80</td>\n",
       "      <td>3</td>\n",
       "      <td>1</td>\n",
       "      <td>0</td>\n",
       "      <td>113931.57</td>\n",
       "      <td>1</td>\n",
       "      <td>1</td>\n",
       "      <td>0</td>\n",
       "      <td>0</td>\n",
       "      <td>1</td>\n",
       "      <td>0</td>\n",
       "    </tr>\n",
       "    <tr>\n",
       "      <th>3</th>\n",
       "      <td>699</td>\n",
       "      <td>39</td>\n",
       "      <td>1.0</td>\n",
       "      <td>0.00</td>\n",
       "      <td>2</td>\n",
       "      <td>0</td>\n",
       "      <td>0</td>\n",
       "      <td>93826.63</td>\n",
       "      <td>0</td>\n",
       "      <td>1</td>\n",
       "      <td>0</td>\n",
       "      <td>0</td>\n",
       "      <td>1</td>\n",
       "      <td>0</td>\n",
       "    </tr>\n",
       "    <tr>\n",
       "      <th>4</th>\n",
       "      <td>850</td>\n",
       "      <td>43</td>\n",
       "      <td>2.0</td>\n",
       "      <td>125510.82</td>\n",
       "      <td>1</td>\n",
       "      <td>1</td>\n",
       "      <td>1</td>\n",
       "      <td>79084.10</td>\n",
       "      <td>0</td>\n",
       "      <td>0</td>\n",
       "      <td>0</td>\n",
       "      <td>1</td>\n",
       "      <td>1</td>\n",
       "      <td>0</td>\n",
       "    </tr>\n",
       "    <tr>\n",
       "      <th>...</th>\n",
       "      <td>...</td>\n",
       "      <td>...</td>\n",
       "      <td>...</td>\n",
       "      <td>...</td>\n",
       "      <td>...</td>\n",
       "      <td>...</td>\n",
       "      <td>...</td>\n",
       "      <td>...</td>\n",
       "      <td>...</td>\n",
       "      <td>...</td>\n",
       "      <td>...</td>\n",
       "      <td>...</td>\n",
       "      <td>...</td>\n",
       "      <td>...</td>\n",
       "    </tr>\n",
       "    <tr>\n",
       "      <th>9994</th>\n",
       "      <td>800</td>\n",
       "      <td>29</td>\n",
       "      <td>2.0</td>\n",
       "      <td>0.00</td>\n",
       "      <td>2</td>\n",
       "      <td>0</td>\n",
       "      <td>0</td>\n",
       "      <td>167773.55</td>\n",
       "      <td>0</td>\n",
       "      <td>1</td>\n",
       "      <td>0</td>\n",
       "      <td>0</td>\n",
       "      <td>1</td>\n",
       "      <td>0</td>\n",
       "    </tr>\n",
       "    <tr>\n",
       "      <th>9995</th>\n",
       "      <td>771</td>\n",
       "      <td>39</td>\n",
       "      <td>5.0</td>\n",
       "      <td>0.00</td>\n",
       "      <td>2</td>\n",
       "      <td>1</td>\n",
       "      <td>0</td>\n",
       "      <td>96270.64</td>\n",
       "      <td>0</td>\n",
       "      <td>1</td>\n",
       "      <td>0</td>\n",
       "      <td>0</td>\n",
       "      <td>0</td>\n",
       "      <td>1</td>\n",
       "    </tr>\n",
       "    <tr>\n",
       "      <th>9996</th>\n",
       "      <td>516</td>\n",
       "      <td>35</td>\n",
       "      <td>10.0</td>\n",
       "      <td>57369.61</td>\n",
       "      <td>1</td>\n",
       "      <td>1</td>\n",
       "      <td>1</td>\n",
       "      <td>101699.77</td>\n",
       "      <td>0</td>\n",
       "      <td>1</td>\n",
       "      <td>0</td>\n",
       "      <td>0</td>\n",
       "      <td>0</td>\n",
       "      <td>1</td>\n",
       "    </tr>\n",
       "    <tr>\n",
       "      <th>9997</th>\n",
       "      <td>709</td>\n",
       "      <td>36</td>\n",
       "      <td>7.0</td>\n",
       "      <td>0.00</td>\n",
       "      <td>1</td>\n",
       "      <td>0</td>\n",
       "      <td>1</td>\n",
       "      <td>42085.58</td>\n",
       "      <td>1</td>\n",
       "      <td>1</td>\n",
       "      <td>0</td>\n",
       "      <td>0</td>\n",
       "      <td>1</td>\n",
       "      <td>0</td>\n",
       "    </tr>\n",
       "    <tr>\n",
       "      <th>9998</th>\n",
       "      <td>772</td>\n",
       "      <td>42</td>\n",
       "      <td>3.0</td>\n",
       "      <td>75075.31</td>\n",
       "      <td>2</td>\n",
       "      <td>1</td>\n",
       "      <td>0</td>\n",
       "      <td>92888.52</td>\n",
       "      <td>1</td>\n",
       "      <td>0</td>\n",
       "      <td>1</td>\n",
       "      <td>0</td>\n",
       "      <td>0</td>\n",
       "      <td>1</td>\n",
       "    </tr>\n",
       "  </tbody>\n",
       "</table>\n",
       "<p>9091 rows × 14 columns</p>\n",
       "</div>"
      ],
      "text/plain": [
       "      CreditScore  Age  Tenure    Balance  NumOfProducts  HasCrCard  \\\n",
       "0             619   42     2.0       0.00              1          1   \n",
       "1             608   41     1.0   83807.86              1          0   \n",
       "2             502   42     8.0  159660.80              3          1   \n",
       "3             699   39     1.0       0.00              2          0   \n",
       "4             850   43     2.0  125510.82              1          1   \n",
       "...           ...  ...     ...        ...            ...        ...   \n",
       "9994          800   29     2.0       0.00              2          0   \n",
       "9995          771   39     5.0       0.00              2          1   \n",
       "9996          516   35    10.0   57369.61              1          1   \n",
       "9997          709   36     7.0       0.00              1          0   \n",
       "9998          772   42     3.0   75075.31              2          1   \n",
       "\n",
       "      IsActiveMember  EstimatedSalary  Exited  Geography_France  \\\n",
       "0                  1        101348.88       1                 1   \n",
       "1                  1        112542.58       0                 0   \n",
       "2                  0        113931.57       1                 1   \n",
       "3                  0         93826.63       0                 1   \n",
       "4                  1         79084.10       0                 0   \n",
       "...              ...              ...     ...               ...   \n",
       "9994               0        167773.55       0                 1   \n",
       "9995               0         96270.64       0                 1   \n",
       "9996               1        101699.77       0                 1   \n",
       "9997               1         42085.58       1                 1   \n",
       "9998               0         92888.52       1                 0   \n",
       "\n",
       "      Geography_Germany  Geography_Spain  Gender_Female  Gender_Male  \n",
       "0                     0                0              1            0  \n",
       "1                     0                1              1            0  \n",
       "2                     0                0              1            0  \n",
       "3                     0                0              1            0  \n",
       "4                     0                1              1            0  \n",
       "...                 ...              ...            ...          ...  \n",
       "9994                  0                0              1            0  \n",
       "9995                  0                0              0            1  \n",
       "9996                  0                0              0            1  \n",
       "9997                  0                0              1            0  \n",
       "9998                  1                0              0            1  \n",
       "\n",
       "[9091 rows x 14 columns]"
      ]
     },
     "execution_count": 13,
     "metadata": {},
     "output_type": "execute_result"
    }
   ],
   "source": [
    "data_cleaned.head(2)\n",
    "data_cleaned = pd.get_dummies(data_cleaned, dtype='int')\n",
    "data_cleaned"
   ]
  },
  {
   "cell_type": "code",
   "execution_count": 14,
   "metadata": {
    "id": "7JJnQd1CEBrg"
   },
   "outputs": [],
   "source": [
    "X = data_cleaned.drop(columns=['Exited'], axis=1)\n",
    "y = data_cleaned['Exited']"
   ]
  },
  {
   "cell_type": "code",
   "execution_count": 15,
   "metadata": {
    "id": "PaCFKPfZEBrg"
   },
   "outputs": [],
   "source": [
    "X_train, X_test, y_train, y_test = train_test_split(X, y, test_size=0.25, random_state=42)"
   ]
  },
  {
   "cell_type": "markdown",
   "metadata": {},
   "source": [
    "### Modelos"
   ]
  },
  {
   "cell_type": "markdown",
   "metadata": {},
   "source": [
    "#### Logistic Regression "
   ]
  },
  {
   "cell_type": "code",
   "execution_count": 16,
   "metadata": {},
   "outputs": [
    {
     "data": {
      "text/html": [
       "<style>#sk-container-id-1 {color: black;}#sk-container-id-1 pre{padding: 0;}#sk-container-id-1 div.sk-toggleable {background-color: white;}#sk-container-id-1 label.sk-toggleable__label {cursor: pointer;display: block;width: 100%;margin-bottom: 0;padding: 0.3em;box-sizing: border-box;text-align: center;}#sk-container-id-1 label.sk-toggleable__label-arrow:before {content: \"▸\";float: left;margin-right: 0.25em;color: #696969;}#sk-container-id-1 label.sk-toggleable__label-arrow:hover:before {color: black;}#sk-container-id-1 div.sk-estimator:hover label.sk-toggleable__label-arrow:before {color: black;}#sk-container-id-1 div.sk-toggleable__content {max-height: 0;max-width: 0;overflow: hidden;text-align: left;background-color: #f0f8ff;}#sk-container-id-1 div.sk-toggleable__content pre {margin: 0.2em;color: black;border-radius: 0.25em;background-color: #f0f8ff;}#sk-container-id-1 input.sk-toggleable__control:checked~div.sk-toggleable__content {max-height: 200px;max-width: 100%;overflow: auto;}#sk-container-id-1 input.sk-toggleable__control:checked~label.sk-toggleable__label-arrow:before {content: \"▾\";}#sk-container-id-1 div.sk-estimator input.sk-toggleable__control:checked~label.sk-toggleable__label {background-color: #d4ebff;}#sk-container-id-1 div.sk-label input.sk-toggleable__control:checked~label.sk-toggleable__label {background-color: #d4ebff;}#sk-container-id-1 input.sk-hidden--visually {border: 0;clip: rect(1px 1px 1px 1px);clip: rect(1px, 1px, 1px, 1px);height: 1px;margin: -1px;overflow: hidden;padding: 0;position: absolute;width: 1px;}#sk-container-id-1 div.sk-estimator {font-family: monospace;background-color: #f0f8ff;border: 1px dotted black;border-radius: 0.25em;box-sizing: border-box;margin-bottom: 0.5em;}#sk-container-id-1 div.sk-estimator:hover {background-color: #d4ebff;}#sk-container-id-1 div.sk-parallel-item::after {content: \"\";width: 100%;border-bottom: 1px solid gray;flex-grow: 1;}#sk-container-id-1 div.sk-label:hover label.sk-toggleable__label {background-color: #d4ebff;}#sk-container-id-1 div.sk-serial::before {content: \"\";position: absolute;border-left: 1px solid gray;box-sizing: border-box;top: 0;bottom: 0;left: 50%;z-index: 0;}#sk-container-id-1 div.sk-serial {display: flex;flex-direction: column;align-items: center;background-color: white;padding-right: 0.2em;padding-left: 0.2em;position: relative;}#sk-container-id-1 div.sk-item {position: relative;z-index: 1;}#sk-container-id-1 div.sk-parallel {display: flex;align-items: stretch;justify-content: center;background-color: white;position: relative;}#sk-container-id-1 div.sk-item::before, #sk-container-id-1 div.sk-parallel-item::before {content: \"\";position: absolute;border-left: 1px solid gray;box-sizing: border-box;top: 0;bottom: 0;left: 50%;z-index: -1;}#sk-container-id-1 div.sk-parallel-item {display: flex;flex-direction: column;z-index: 1;position: relative;background-color: white;}#sk-container-id-1 div.sk-parallel-item:first-child::after {align-self: flex-end;width: 50%;}#sk-container-id-1 div.sk-parallel-item:last-child::after {align-self: flex-start;width: 50%;}#sk-container-id-1 div.sk-parallel-item:only-child::after {width: 0;}#sk-container-id-1 div.sk-dashed-wrapped {border: 1px dashed gray;margin: 0 0.4em 0.5em 0.4em;box-sizing: border-box;padding-bottom: 0.4em;background-color: white;}#sk-container-id-1 div.sk-label label {font-family: monospace;font-weight: bold;display: inline-block;line-height: 1.2em;}#sk-container-id-1 div.sk-label-container {text-align: center;}#sk-container-id-1 div.sk-container {/* jupyter's `normalize.less` sets `[hidden] { display: none; }` but bootstrap.min.css set `[hidden] { display: none !important; }` so we also need the `!important` here to be able to override the default hidden behavior on the sphinx rendered scikit-learn.org. See: https://github.com/scikit-learn/scikit-learn/issues/21755 */display: inline-block !important;position: relative;}#sk-container-id-1 div.sk-text-repr-fallback {display: none;}</style><div id=\"sk-container-id-1\" class=\"sk-top-container\"><div class=\"sk-text-repr-fallback\"><pre>LogisticRegression(penalty=&#x27;l1&#x27;, random_state=42, solver=&#x27;liblinear&#x27;)</pre><b>In a Jupyter environment, please rerun this cell to show the HTML representation or trust the notebook. <br />On GitHub, the HTML representation is unable to render, please try loading this page with nbviewer.org.</b></div><div class=\"sk-container\" hidden><div class=\"sk-item\"><div class=\"sk-estimator sk-toggleable\"><input class=\"sk-toggleable__control sk-hidden--visually\" id=\"sk-estimator-id-1\" type=\"checkbox\" checked><label for=\"sk-estimator-id-1\" class=\"sk-toggleable__label sk-toggleable__label-arrow\">LogisticRegression</label><div class=\"sk-toggleable__content\"><pre>LogisticRegression(penalty=&#x27;l1&#x27;, random_state=42, solver=&#x27;liblinear&#x27;)</pre></div></div></div></div></div>"
      ],
      "text/plain": [
       "LogisticRegression(penalty='l1', random_state=42, solver='liblinear')"
      ]
     },
     "execution_count": 16,
     "metadata": {},
     "output_type": "execute_result"
    }
   ],
   "source": [
    "lr = LogisticRegression(solver = 'liblinear', max_iter=100, random_state=42, penalty='l1')\n",
    "lr.fit(X_train, y_train)"
   ]
  },
  {
   "cell_type": "code",
   "execution_count": 17,
   "metadata": {},
   "outputs": [
    {
     "name": "stdout",
     "output_type": "stream",
     "text": [
      "Accuracy:0.8147822261328641, F1:0.3154471544715447, ROC:0.5893662708867154.\n"
     ]
    }
   ],
   "source": [
    "lr_pred = lr.predict(X_test)\n",
    "lr_acc = accuracy_score(y_test, lr_pred)\n",
    "lr_f1 = f1_score(y_test, lr_pred)\n",
    "lr_roc = roc_auc_score(y_test, lr_pred)\n",
    "\n",
    "print(f'Accuracy:{lr_acc}, F1:{lr_f1}, ROC:{lr_roc}.')"
   ]
  },
  {
   "cell_type": "markdown",
   "metadata": {
    "id": "XdTblI3UEBrg"
   },
   "source": [
    "#### Random Forest Classifier"
   ]
  },
  {
   "cell_type": "code",
   "execution_count": 20,
   "metadata": {},
   "outputs": [
    {
     "name": "stdout",
     "output_type": "stream",
     "text": [
      "Best Parameters: {'criterion': 'gini', 'max_depth': 5, 'max_features': 10, 'min_samples_split': 10, 'n_estimators': 100}\n",
      "Best Score: 0.5509344707161803\n"
     ]
    }
   ],
   "source": [
    "rf = RandomForestClassifier()\n",
    "n_estimators=[50, 100]\n",
    "max_depth=[1, 3, 5]\n",
    "max_features=[3, 5, 10]\n",
    "criterion = ['gini', 'entropy']\n",
    "min_samples_split = [2, 5, 10]\n",
    "\n",
    "\n",
    "grid=dict(n_estimators=n_estimators, max_depth=max_depth, max_features=max_features, criterion=criterion, min_samples_split = min_samples_split)\n",
    "grid_search = GridSearchCV(estimator = rf, param_grid=grid, scoring='f1')\n",
    "result = grid_search.fit(X_train, y_train)\n",
    "print(\"Best Parameters:\", result.best_params_)\n",
    "print(\"Best Score:\", result.best_score_)\n",
    "best_rf = result.best_estimator_"
   ]
  },
  {
   "cell_type": "code",
   "execution_count": 21,
   "metadata": {},
   "outputs": [
    {
     "name": "stdout",
     "output_type": "stream",
     "text": [
      "Accuracy: 0.8548174219093708, f1_Score: 0.53125, ROC: 0.6878950280895496\n"
     ]
    }
   ],
   "source": [
    "rf_predicted = best_rf.predict(X_test)\n",
    "rf_acc = accuracy_score(y_test, rf_predicted)\n",
    "rf_f1 = f1_score(y_test, rf_predicted)\n",
    "rf_roc = roc_auc_score(y_test, rf_predicted)\n",
    "print(f'Accuracy: {rf_acc}, f1_Score: {rf_f1}, ROC: {rf_roc}')"
   ]
  },
  {
   "cell_type": "markdown",
   "metadata": {
    "id": "ygosg4Yzl9XZ"
   },
   "source": [
    "#### Decision Tree Classifier"
   ]
  },
  {
   "cell_type": "code",
   "execution_count": 24,
   "metadata": {},
   "outputs": [
    {
     "name": "stdout",
     "output_type": "stream",
     "text": [
      "Best Parameters: {'criterion': 'gini', 'max_depth': 5}\n",
      "Best Score: 0.5053541943365715\n"
     ]
    }
   ],
   "source": [
    "dt = DecisionTreeClassifier()\n",
    "criterion=['gini', 'entropy']\n",
    "max_depth=[1, 3, 5]\n",
    "\n",
    "grid=dict(criterion=criterion, max_depth=max_depth)\n",
    "grid_search = GridSearchCV(estimator = dt, param_grid=grid, scoring='f1')\n",
    "result = grid_search.fit(X_train, y_train)\n",
    "print(\"Best Parameters:\", result.best_params_)\n",
    "print(\"Best Score:\", result.best_score_)\n",
    "best_dt = result.best_estimator_"
   ]
  },
  {
   "cell_type": "code",
   "execution_count": 25,
   "metadata": {},
   "outputs": [
    {
     "name": "stdout",
     "output_type": "stream",
     "text": [
      "Accuracy: 0.8517377914650242, f1_score: 0.5164992826398852, ROC: 0.6802531066921698.\n"
     ]
    }
   ],
   "source": [
    "dt_predicted = best_dt.predict(X_test)\n",
    "dt_acc = accuracy_score(y_test, dt_predicted)\n",
    "dt_f1 = f1_score(y_test, dt_predicted)\n",
    "dt_roc = roc_auc_score(y_test, dt_predicted)\n",
    "\n",
    "print(f'Accuracy: {dt_acc}, f1_score: {dt_f1}, ROC: {dt_roc}.')"
   ]
  },
  {
   "cell_type": "markdown",
   "metadata": {
    "id": "u9IOy6aCEBrh"
   },
   "source": [
    "## Alterações para melhorar o score\n",
    "Buscando melhores resultados, foram feitos ajustes e testes com diferentes parâmetros, obtendo, ao final, resultado um pouco melhor.\n"
   ]
  },
  {
   "cell_type": "markdown",
   "metadata": {},
   "source": [
    "### 'Balanced' "
   ]
  },
  {
   "cell_type": "markdown",
   "metadata": {},
   "source": [
    "#### Logistic Regression"
   ]
  },
  {
   "cell_type": "code",
   "execution_count": 26,
   "metadata": {},
   "outputs": [
    {
     "data": {
      "text/html": [
       "<style>#sk-container-id-2 {color: black;}#sk-container-id-2 pre{padding: 0;}#sk-container-id-2 div.sk-toggleable {background-color: white;}#sk-container-id-2 label.sk-toggleable__label {cursor: pointer;display: block;width: 100%;margin-bottom: 0;padding: 0.3em;box-sizing: border-box;text-align: center;}#sk-container-id-2 label.sk-toggleable__label-arrow:before {content: \"▸\";float: left;margin-right: 0.25em;color: #696969;}#sk-container-id-2 label.sk-toggleable__label-arrow:hover:before {color: black;}#sk-container-id-2 div.sk-estimator:hover label.sk-toggleable__label-arrow:before {color: black;}#sk-container-id-2 div.sk-toggleable__content {max-height: 0;max-width: 0;overflow: hidden;text-align: left;background-color: #f0f8ff;}#sk-container-id-2 div.sk-toggleable__content pre {margin: 0.2em;color: black;border-radius: 0.25em;background-color: #f0f8ff;}#sk-container-id-2 input.sk-toggleable__control:checked~div.sk-toggleable__content {max-height: 200px;max-width: 100%;overflow: auto;}#sk-container-id-2 input.sk-toggleable__control:checked~label.sk-toggleable__label-arrow:before {content: \"▾\";}#sk-container-id-2 div.sk-estimator input.sk-toggleable__control:checked~label.sk-toggleable__label {background-color: #d4ebff;}#sk-container-id-2 div.sk-label input.sk-toggleable__control:checked~label.sk-toggleable__label {background-color: #d4ebff;}#sk-container-id-2 input.sk-hidden--visually {border: 0;clip: rect(1px 1px 1px 1px);clip: rect(1px, 1px, 1px, 1px);height: 1px;margin: -1px;overflow: hidden;padding: 0;position: absolute;width: 1px;}#sk-container-id-2 div.sk-estimator {font-family: monospace;background-color: #f0f8ff;border: 1px dotted black;border-radius: 0.25em;box-sizing: border-box;margin-bottom: 0.5em;}#sk-container-id-2 div.sk-estimator:hover {background-color: #d4ebff;}#sk-container-id-2 div.sk-parallel-item::after {content: \"\";width: 100%;border-bottom: 1px solid gray;flex-grow: 1;}#sk-container-id-2 div.sk-label:hover label.sk-toggleable__label {background-color: #d4ebff;}#sk-container-id-2 div.sk-serial::before {content: \"\";position: absolute;border-left: 1px solid gray;box-sizing: border-box;top: 0;bottom: 0;left: 50%;z-index: 0;}#sk-container-id-2 div.sk-serial {display: flex;flex-direction: column;align-items: center;background-color: white;padding-right: 0.2em;padding-left: 0.2em;position: relative;}#sk-container-id-2 div.sk-item {position: relative;z-index: 1;}#sk-container-id-2 div.sk-parallel {display: flex;align-items: stretch;justify-content: center;background-color: white;position: relative;}#sk-container-id-2 div.sk-item::before, #sk-container-id-2 div.sk-parallel-item::before {content: \"\";position: absolute;border-left: 1px solid gray;box-sizing: border-box;top: 0;bottom: 0;left: 50%;z-index: -1;}#sk-container-id-2 div.sk-parallel-item {display: flex;flex-direction: column;z-index: 1;position: relative;background-color: white;}#sk-container-id-2 div.sk-parallel-item:first-child::after {align-self: flex-end;width: 50%;}#sk-container-id-2 div.sk-parallel-item:last-child::after {align-self: flex-start;width: 50%;}#sk-container-id-2 div.sk-parallel-item:only-child::after {width: 0;}#sk-container-id-2 div.sk-dashed-wrapped {border: 1px dashed gray;margin: 0 0.4em 0.5em 0.4em;box-sizing: border-box;padding-bottom: 0.4em;background-color: white;}#sk-container-id-2 div.sk-label label {font-family: monospace;font-weight: bold;display: inline-block;line-height: 1.2em;}#sk-container-id-2 div.sk-label-container {text-align: center;}#sk-container-id-2 div.sk-container {/* jupyter's `normalize.less` sets `[hidden] { display: none; }` but bootstrap.min.css set `[hidden] { display: none !important; }` so we also need the `!important` here to be able to override the default hidden behavior on the sphinx rendered scikit-learn.org. See: https://github.com/scikit-learn/scikit-learn/issues/21755 */display: inline-block !important;position: relative;}#sk-container-id-2 div.sk-text-repr-fallback {display: none;}</style><div id=\"sk-container-id-2\" class=\"sk-top-container\"><div class=\"sk-text-repr-fallback\"><pre>LogisticRegression(class_weight=&#x27;balanced&#x27;, penalty=&#x27;l1&#x27;, random_state=42,\n",
       "                   solver=&#x27;liblinear&#x27;)</pre><b>In a Jupyter environment, please rerun this cell to show the HTML representation or trust the notebook. <br />On GitHub, the HTML representation is unable to render, please try loading this page with nbviewer.org.</b></div><div class=\"sk-container\" hidden><div class=\"sk-item\"><div class=\"sk-estimator sk-toggleable\"><input class=\"sk-toggleable__control sk-hidden--visually\" id=\"sk-estimator-id-2\" type=\"checkbox\" checked><label for=\"sk-estimator-id-2\" class=\"sk-toggleable__label sk-toggleable__label-arrow\">LogisticRegression</label><div class=\"sk-toggleable__content\"><pre>LogisticRegression(class_weight=&#x27;balanced&#x27;, penalty=&#x27;l1&#x27;, random_state=42,\n",
       "                   solver=&#x27;liblinear&#x27;)</pre></div></div></div></div></div>"
      ],
      "text/plain": [
       "LogisticRegression(class_weight='balanced', penalty='l1', random_state=42,\n",
       "                   solver='liblinear')"
      ]
     },
     "execution_count": 26,
     "metadata": {},
     "output_type": "execute_result"
    }
   ],
   "source": [
    "lr2 = LogisticRegression(class_weight='balanced', solver = 'liblinear', max_iter=100, random_state=42, penalty='l1')\n",
    "lr2.fit(X_train, y_train)"
   ]
  },
  {
   "cell_type": "code",
   "execution_count": 27,
   "metadata": {},
   "outputs": [
    {
     "name": "stdout",
     "output_type": "stream",
     "text": [
      "Accuracy: 0.6964364276286845, F1: 0.4772727272727273, ROC: 0.6931977576479363.\n"
     ]
    }
   ],
   "source": [
    "lr2_pred = lr2.predict(X_test)\n",
    "lr2_acc = accuracy_score(y_test, lr2_pred)\n",
    "lr2_f1 = f1_score(y_test, lr2_pred)\n",
    "lr2_roc = roc_auc_score(y_test, lr2_pred)\n",
    "\n",
    "print(f'Accuracy: {lr2_acc}, F1: {lr2_f1}, ROC: {lr2_roc}.')"
   ]
  },
  {
   "cell_type": "markdown",
   "metadata": {},
   "source": [
    "#### Random Forest Classifier"
   ]
  },
  {
   "cell_type": "code",
   "execution_count": 28,
   "metadata": {
    "colab": {
     "base_uri": "https://localhost:8080/"
    },
    "id": "1CxAcyODEBrh",
    "outputId": "e8cfc894-0721-49af-e03d-61fbdb8a545e"
   },
   "outputs": [],
   "source": [
    "# rf2 = RandomForestClassifier(max_depth=10, n_estimators=100,\n",
    "#                              criterion='entropy', random_state=42,\n",
    "#                              min_samples_split=2, class_weight= 'balanced')\n",
    "# rf2.fit(X_train, y_train)\n",
    "# rf2_predicted = rf2.predict(X_test)\n",
    "# rf2_acc = accuracy_score(y_test, rf2_predicted)\n",
    "# rf2_f1 = f1_score(y_test, rf2_predicted)\n",
    "# rf2_roc = roc_auc_score(y_test, rf2_predicted)\n",
    "# print(f'Accuracy: {rf2_acc}, f1_Score: {rf2_f1}, ROC:{rf2_roc}')"
   ]
  },
  {
   "cell_type": "code",
   "execution_count": 29,
   "metadata": {},
   "outputs": [
    {
     "name": "stdout",
     "output_type": "stream",
     "text": [
      "Best Parameters: {'class_weight': 'balanced', 'criterion': 'entropy', 'max_depth': 5, 'max_features': 5, 'min_samples_split': 2, 'n_estimators': 50}\n",
      "Best Score: 0.6075018854695581\n"
     ]
    }
   ],
   "source": [
    "rf2 = RandomForestClassifier()\n",
    "n_estimators=[50, 100]\n",
    "max_depth=[1, 3, 5]\n",
    "max_features = [3, 5, 10]\n",
    "criterion = ['gini', 'entropy']\n",
    "min_samples_split = [2, 5, 10]\n",
    "class_weight = ['balanced']\n",
    "\n",
    "grid=dict(n_estimators=n_estimators, max_depth=max_depth, max_features=max_features, criterion=criterion, min_samples_split= min_samples_split, class_weight=class_weight)\n",
    "grid_search = GridSearchCV(estimator = rf2, param_grid=grid, scoring='f1')\n",
    "result = grid_search.fit(X_train, y_train)\n",
    "print(\"Best Parameters:\", result.best_params_)\n",
    "print(\"Best Score:\", result.best_score_)\n",
    "best_rf2 = result.best_estimator_"
   ]
  },
  {
   "cell_type": "code",
   "execution_count": 30,
   "metadata": {},
   "outputs": [
    {
     "name": "stdout",
     "output_type": "stream",
     "text": [
      "Accuracy: 0.8011438627364716, f1_Score: 0.5775700934579439, ROC: 0.7538651701613194\n"
     ]
    }
   ],
   "source": [
    "rf2_predicted = best_rf2.predict(X_test)\n",
    "rf2_acc = accuracy_score(y_test, rf2_predicted)\n",
    "rf2_f1 = f1_score(y_test, rf2_predicted)\n",
    "rf2_roc = roc_auc_score(y_test, rf2_predicted)\n",
    "print(f'Accuracy: {rf2_acc}, f1_Score: {rf2_f1}, ROC: {rf2_roc}')"
   ]
  },
  {
   "cell_type": "markdown",
   "metadata": {},
   "source": [
    "#### Decision Tree Classifier\n"
   ]
  },
  {
   "cell_type": "code",
   "execution_count": 31,
   "metadata": {},
   "outputs": [
    {
     "name": "stdout",
     "output_type": "stream",
     "text": [
      "Best Parameters: {'criterion': 'gini', 'max_depth': 5}\n",
      "Best Score: 0.5061081568552399\n"
     ]
    }
   ],
   "source": [
    "dt2 = DecisionTreeClassifier()\n",
    "criterion=['gini', 'entropy']\n",
    "max_depth=[1, 3, 5]\n",
    "\n",
    "grid=dict(criterion=criterion, max_depth=max_depth)\n",
    "grid_search = GridSearchCV(estimator = dt2, param_grid=grid, scoring='f1')\n",
    "result = grid_search.fit(X_train, y_train)\n",
    "print(\"Best Parameters:\", result.best_params_)\n",
    "print(\"Best Score:\", result.best_score_)\n",
    "best_dt2 = result.best_estimator_"
   ]
  },
  {
   "cell_type": "code",
   "execution_count": 32,
   "metadata": {},
   "outputs": [
    {
     "name": "stdout",
     "output_type": "stream",
     "text": [
      "Accuracy: 0.8521777386713595, f1_score: 0.5172413793103448, ROC: 0.6805285887858337.\n"
     ]
    }
   ],
   "source": [
    "dt2_predicted = best_dt2.predict(X_test)\n",
    "dt2_acc = accuracy_score(y_test, dt2_predicted)\n",
    "dt2_f1 = f1_score(y_test, dt2_predicted)\n",
    "dt2_roc = roc_auc_score(y_test, dt2_predicted)\n",
    "\n",
    "print(f'Accuracy: {dt2_acc}, f1_score: {dt2_f1}, ROC: {dt2_roc}.')"
   ]
  },
  {
   "cell_type": "markdown",
   "metadata": {},
   "source": [
    "### Upsampling"
   ]
  },
  {
   "cell_type": "code",
   "execution_count": 33,
   "metadata": {},
   "outputs": [],
   "source": [
    "X = data_cleaned.drop('Exited', axis = 1)\n",
    "y = data_cleaned['Exited']\n",
    "\n",
    "X_train, X_test, y_train, y_test = train_test_split(X, y, test_size = 0.3, random_state=12345)\n",
    "\n",
    "\n",
    "def upsample(X, y, repeat):\n",
    "    X_zeros = X[y == 0]\n",
    "    X_ones = X[y == 1]\n",
    "    y_zeros = y[y == 0]\n",
    "    y_ones = y[y == 1]\n",
    "\n",
    "    X_upsampled = pd.concat([X_zeros] + [X_ones] * repeat)\n",
    "    y_upsampled = pd.concat([y_zeros] + [y_ones] * repeat)\n",
    "\n",
    "    X_upsampled, y_upsampled = shuffle(\n",
    "        X_upsampled, y_upsampled, random_state=12345\n",
    "    )\n",
    "\n",
    "    return X_upsampled, y_upsampled\n",
    "\n",
    "\n",
    "X_upsampled, y_upsampled = upsample(\n",
    "    X_train, y_train, 30\n",
    ")\n"
   ]
  },
  {
   "cell_type": "markdown",
   "metadata": {},
   "source": [
    "#### Logistic Regression Upsampled\n"
   ]
  },
  {
   "cell_type": "code",
   "execution_count": 34,
   "metadata": {},
   "outputs": [
    {
     "name": "stdout",
     "output_type": "stream",
     "text": [
      "Accuracy: 0.7236070381231672, F1: 0.5110246433203632, ROC: 0.7228590230423412.\n"
     ]
    }
   ],
   "source": [
    "lr_up = LogisticRegression(class_weight='balanced', solver = 'liblinear', max_iter=100, random_state=42, penalty='l1')\n",
    "lr_up.fit(X_upsampled, y_upsampled)\n",
    "\n",
    "lr_up_pred= lr_up.predict(X_test)\n",
    "\n",
    "lr_up_accuracy = accuracy_score(y_test, lr_up_pred)\n",
    "lr_up_f1 = f1_score(y_test, lr_up_pred)\n",
    "lr_up_roc = roc_auc_score(y_test, lr_up_pred)\n",
    "\n",
    "print(f'Accuracy: {lr_up_accuracy}, F1: {lr_up_f1}, ROC: {lr_up_roc}.')"
   ]
  },
  {
   "cell_type": "markdown",
   "metadata": {},
   "source": [
    "#### Random Forest Classifier Upsampled"
   ]
  },
  {
   "cell_type": "code",
   "execution_count": 38,
   "metadata": {},
   "outputs": [
    {
     "name": "stdout",
     "output_type": "stream",
     "text": [
      "Best Parameters: {'class_weight': 'balanced', 'criterion': 'gini', 'max_depth': 10, 'min_samples_split': 5, 'n_estimators': 100}\n",
      "Best Score: 0.9461329642182458\n"
     ]
    }
   ],
   "source": [
    "rf_up = RandomForestClassifier()\n",
    "n_estimators=[50, 100]\n",
    "max_depth=[1, 3, 5, 10]\n",
    "criterion = ['gini', 'entropy']\n",
    "min_samples_split = [2, 5, 10]\n",
    "class_weight = ['balanced']\n",
    "\n",
    "\n",
    "grid=dict(n_estimators=n_estimators, max_depth=max_depth, criterion=criterion, min_samples_split= min_samples_split, class_weight=class_weight)\n",
    "grid_search = GridSearchCV(estimator = rf_up, param_grid=grid, scoring='f1')\n",
    "result = grid_search.fit(X_upsampled, y_upsampled)\n",
    "print(\"Best Parameters:\", result.best_params_)\n",
    "print(\"Best Score:\", result.best_score_)\n",
    "best_rf_up = result.best_estimator_"
   ]
  },
  {
   "cell_type": "code",
   "execution_count": 39,
   "metadata": {},
   "outputs": [
    {
     "name": "stdout",
     "output_type": "stream",
     "text": [
      "Accuracy: 0.8181818181818182, F1_score: 0.6075949367088608, ROC: 0.7751130629224122.\n"
     ]
    }
   ],
   "source": [
    "rf_up_pred = best_rf_up.predict(X_test)\n",
    "rf_up_acc = accuracy_score(y_test, rf_up_pred)\n",
    "rf_up_f1 = f1_score(y_test, rf_up_pred)\n",
    "rf_up_roc = roc_auc_score(y_test, rf_up_pred)\n",
    "print(f'Accuracy: {rf_up_acc}, F1_score: {rf_up_f1}, ROC: {rf_up_roc}.')"
   ]
  },
  {
   "cell_type": "markdown",
   "metadata": {},
   "source": [
    "#### Decision Tree Classifier Upsampled"
   ]
  },
  {
   "cell_type": "code",
   "execution_count": 40,
   "metadata": {},
   "outputs": [
    {
     "name": "stdout",
     "output_type": "stream",
     "text": [
      "Best Parameters: {'criterion': 'entropy', 'max_depth': 10}\n",
      "Best Score: 0.5404275645434431\n"
     ]
    }
   ],
   "source": [
    "dt_up = DecisionTreeClassifier()\n",
    "criterion=['gini', 'entropy']\n",
    "max_depth=[1, 3, 5, 10]\n",
    "\n",
    "grid=dict(criterion=criterion, max_depth=max_depth)\n",
    "grid_search = GridSearchCV(estimator = dt2, param_grid=grid, scoring='f1')\n",
    "result = grid_search.fit(X_train, y_train)\n",
    "print(\"Best Parameters:\", result.best_params_)\n",
    "print(\"Best Score:\", result.best_score_)\n",
    "best_dt_up = result.best_estimator_"
   ]
  },
  {
   "cell_type": "code",
   "execution_count": 41,
   "metadata": {},
   "outputs": [
    {
     "name": "stdout",
     "output_type": "stream",
     "text": [
      "Accuracy: 0.8390762463343109, F1_score: 0.5254054054054055, ROC: 0.6913634028666109.\n"
     ]
    }
   ],
   "source": [
    "dt_up_pred = best_dt_up.predict(X_test)\n",
    "dt_up_acc = accuracy_score(y_test, dt_up_pred)\n",
    "dt_up_f1 = f1_score(y_test, dt_up_pred)\n",
    "dt_up_roc = roc_auc_score(y_test, dt_up_pred)\n",
    "\n",
    "print(f'Accuracy: {dt_up_acc}, F1_score: {dt_up_f1}, ROC: {dt_up_roc}.')"
   ]
  },
  {
   "cell_type": "markdown",
   "metadata": {},
   "source": [
    "### Gráficos comparativos dos resultados"
   ]
  },
  {
   "cell_type": "code",
   "execution_count": 42,
   "metadata": {},
   "outputs": [],
   "source": [
    "modelos = ['Logistic Regression', 'Decision Tree', 'Random Forest']\n",
    "f1_scores_sets = [\n",
    "    [lr_f1, dt_f1, rf_f1],\n",
    "    [lr2_f1, dt2_f1, rf2_f1],\n",
    "    [lr_up_f1, dt_up_f1, rf_up_f1]\n",
    "]\n",
    "titles = [\n",
    "    'Comparação de F1 Scores entre Modelos',\n",
    "    'Comparação de F1 Scores entre Modelos - Balanced',\n",
    "    'Comparação de F1 Scores entre Modelos - Upsampling'\n",
    "]\n"
   ]
  },
  {
   "cell_type": "code",
   "execution_count": null,
   "metadata": {},
   "outputs": [
    {
     "data": {
      "image/png": "[encoded data removed]",
      "text/plain": [
       "<Figure size 600x400 with 1 Axes>"
      ]
     },
     "metadata": {},
     "output_type": "display_data"
    },
    {
     "data": {
      "image/png": "[encoded data removed]",
      "text/plain": [
       "<Figure size 600x400 with 1 Axes>"
      ]
     },
     "metadata": {},
     "output_type": "display_data"
    },
    {
     "data": {
      "image/png": "[encoded data removed]",
      "text/plain": [
       "<Figure size 600x400 with 1 Axes>"
      ]
     },
     "metadata": {},
     "output_type": "display_data"
    }
   ],
   "source": [
    "def plot_f1_scores(modelos, f1_scores, title):\n",
    "    plt.figure(figsize=(6, 4))\n",
    "    bars = plt.bar(modelos, f1_scores, color=['blue', 'green', 'red'])\n",
    "\n",
    "    plt.title(title)\n",
    "    plt.xlabel('Modelos')\n",
    "    plt.ylabel('F1 Score')\n",
    "\n",
    "    for bar in bars:\n",
    "        yval = bar.get_height()\n",
    "        plt.text(bar.get_x() + bar.get_width() / 2, yval + 0.01, f'{yval:.2f}', ha='center', va='bottom')\n",
    "\n",
    "    plt.ylim(0, 1)\n",
    "    plt.show()\n",
    "\n",
    "for f1_scores, title in zip(f1_scores_sets, titles):\n",
    "    plot_f1_scores(modelos, f1_scores, title)"
   ]
  },
  {
   "cell_type": "code",
   "execution_count": null,
   "metadata": {},
   "outputs": [],
   "source": []
  }
 ],
 "metadata": {
  "ExecuteTimeLog": [
   {
    "duration": 6071,
    "start_time": "2024-06-06T13:22:07.220Z"
   },
   {
    "duration": 4,
    "start_time": "2024-06-06T13:23:55.490Z"
   },
   {
    "duration": 37,
    "start_time": "2024-06-06T13:27:09.590Z"
   },
   {
    "duration": 7,
    "start_time": "2024-06-06T13:27:12.843Z"
   },
   {
    "duration": 727,
    "start_time": "2024-06-06T13:27:12.855Z"
   },
   {
    "duration": 34,
    "start_time": "2024-06-06T13:27:13.585Z"
   },
   {
    "duration": 19,
    "start_time": "2024-06-06T13:27:13.628Z"
   },
   {
    "duration": 18,
    "start_time": "2024-06-06T13:27:13.652Z"
   },
   {
    "duration": 9,
    "start_time": "2024-06-06T13:27:13.673Z"
   },
   {
    "duration": 45,
    "start_time": "2024-06-06T13:27:13.714Z"
   },
   {
    "duration": 24,
    "start_time": "2024-06-06T13:27:13.764Z"
   },
   {
    "duration": 224,
    "start_time": "2024-06-06T13:27:13.791Z"
   },
   {
    "duration": 224,
    "start_time": "2024-06-06T13:27:14.025Z"
   },
   {
    "duration": 16,
    "start_time": "2024-06-06T13:27:14.252Z"
   },
   {
    "duration": 58,
    "start_time": "2024-06-06T13:27:14.275Z"
   },
   {
    "duration": 7,
    "start_time": "2024-06-06T13:27:14.336Z"
   },
   {
    "duration": 8,
    "start_time": "2024-06-06T13:27:14.350Z"
   },
   {
    "duration": 1363,
    "start_time": "2024-06-06T13:27:14.361Z"
   },
   {
    "duration": 58,
    "start_time": "2024-06-06T13:27:15.727Z"
   },
   {
    "duration": 89,
    "start_time": "2024-06-06T13:27:15.788Z"
   },
   {
    "duration": 13,
    "start_time": "2024-06-06T13:27:15.881Z"
   },
   {
    "duration": 1615,
    "start_time": "2024-06-06T13:27:15.914Z"
   },
   {
    "duration": 4,
    "start_time": "2024-06-06T13:27:17.531Z"
   },
   {
    "duration": 4,
    "start_time": "2024-06-06T13:27:17.539Z"
   },
   {
    "duration": 3,
    "start_time": "2024-06-06T13:27:17.547Z"
   },
   {
    "duration": 4,
    "start_time": "2024-06-06T13:27:17.554Z"
   },
   {
    "duration": 3,
    "start_time": "2024-06-06T13:27:17.562Z"
   },
   {
    "duration": 44,
    "start_time": "2024-06-06T13:27:17.569Z"
   },
   {
    "duration": 4,
    "start_time": "2024-06-06T13:27:17.616Z"
   },
   {
    "duration": 1651,
    "start_time": "2024-06-06T13:29:45.937Z"
   },
   {
    "duration": 1155,
    "start_time": "2024-06-06T13:31:02.045Z"
   },
   {
    "duration": 49,
    "start_time": "2024-06-06T13:31:42.635Z"
   },
   {
    "duration": 70,
    "start_time": "2024-06-06T13:32:03.923Z"
   },
   {
    "duration": 54,
    "start_time": "2024-06-06T13:32:15.382Z"
   },
   {
    "duration": 61,
    "start_time": "2024-06-06T13:33:05.550Z"
   },
   {
    "duration": 255,
    "start_time": "2024-06-06T13:34:16.886Z"
   },
   {
    "duration": 62,
    "start_time": "2024-06-06T13:34:28.757Z"
   },
   {
    "duration": 14,
    "start_time": "2024-06-06T13:34:30.468Z"
   },
   {
    "duration": 7,
    "start_time": "2024-06-06T13:47:42.386Z"
   },
   {
    "duration": 185,
    "start_time": "2024-06-06T13:47:49.028Z"
   },
   {
    "duration": 66,
    "start_time": "2024-06-06T13:50:06.683Z"
   },
   {
    "duration": 87,
    "start_time": "2024-06-06T13:50:45.379Z"
   },
   {
    "duration": 7,
    "start_time": "2024-06-06T13:51:53.133Z"
   },
   {
    "duration": 132,
    "start_time": "2024-06-06T13:52:02.734Z"
   },
   {
    "duration": 8,
    "start_time": "2024-06-06T13:52:46.310Z"
   },
   {
    "duration": 37,
    "start_time": "2024-06-06T13:55:29.996Z"
   },
   {
    "duration": 2068,
    "start_time": "2024-06-06T13:55:39.389Z"
   },
   {
    "duration": 13,
    "start_time": "2024-06-06T13:57:53.323Z"
   },
   {
    "duration": 15,
    "start_time": "2024-06-06T13:58:44.841Z"
   },
   {
    "duration": 12,
    "start_time": "2024-06-06T13:58:48.986Z"
   },
   {
    "duration": 98,
    "start_time": "2024-06-06T13:59:46.129Z"
   },
   {
    "duration": 6,
    "start_time": "2024-06-06T14:00:23.155Z"
   },
   {
    "duration": 12,
    "start_time": "2024-06-06T14:02:41.574Z"
   },
   {
    "duration": 28,
    "start_time": "2024-06-06T14:04:04.268Z"
   },
   {
    "duration": 121,
    "start_time": "2024-06-06T14:06:03.508Z"
   },
   {
    "duration": 121,
    "start_time": "2024-06-06T14:06:08.736Z"
   },
   {
    "duration": 4,
    "start_time": "2024-06-06T14:06:58.705Z"
   },
   {
    "duration": 2374,
    "start_time": "2024-06-06T14:06:59.961Z"
   },
   {
    "duration": 11,
    "start_time": "2024-06-06T14:07:03.399Z"
   },
   {
    "duration": 4,
    "start_time": "2024-06-06T14:07:12.138Z"
   },
   {
    "duration": 2091,
    "start_time": "2024-06-06T14:07:13.289Z"
   },
   {
    "duration": 13,
    "start_time": "2024-06-06T14:07:16.002Z"
   },
   {
    "duration": 36,
    "start_time": "2024-06-06T14:07:36.867Z"
   },
   {
    "duration": 113,
    "start_time": "2024-06-06T14:07:58.663Z"
   },
   {
    "duration": 6,
    "start_time": "2024-06-06T14:08:00.693Z"
   },
   {
    "duration": 11,
    "start_time": "2024-06-06T14:08:03.957Z"
   },
   {
    "duration": 107,
    "start_time": "2024-06-06T14:08:11.338Z"
   },
   {
    "duration": 7,
    "start_time": "2024-06-06T14:08:14.665Z"
   },
   {
    "duration": 13,
    "start_time": "2024-06-06T14:08:15.764Z"
   },
   {
    "duration": 116,
    "start_time": "2024-06-06T14:08:26.903Z"
   },
   {
    "duration": 6,
    "start_time": "2024-06-06T14:08:28.141Z"
   },
   {
    "duration": 12,
    "start_time": "2024-06-06T14:08:29.025Z"
   },
   {
    "duration": 136,
    "start_time": "2024-06-06T14:08:36.134Z"
   },
   {
    "duration": 6,
    "start_time": "2024-06-06T14:08:37.046Z"
   },
   {
    "duration": 12,
    "start_time": "2024-06-06T14:08:37.949Z"
   },
   {
    "duration": 17,
    "start_time": "2024-06-06T14:10:13.406Z"
   },
   {
    "duration": 1263,
    "start_time": "2024-06-06T14:10:35.972Z"
   },
   {
    "duration": 51,
    "start_time": "2024-06-06T14:11:04.840Z"
   },
   {
    "duration": 13,
    "start_time": "2024-06-06T14:11:07.588Z"
   },
   {
    "duration": 295,
    "start_time": "2024-06-06T14:12:34.324Z"
   },
   {
    "duration": 14,
    "start_time": "2024-06-06T14:15:01.284Z"
   },
   {
    "duration": 1263,
    "start_time": "2024-06-06T14:17:33.721Z"
   },
   {
    "duration": 3,
    "start_time": "2024-06-06T14:18:45.584Z"
   },
   {
    "duration": 228,
    "start_time": "2024-06-06T14:18:58.095Z"
   },
   {
    "duration": 16,
    "start_time": "2024-06-06T14:20:48.964Z"
   },
   {
    "duration": 134,
    "start_time": "2024-06-06T14:22:03.982Z"
   },
   {
    "duration": 638,
    "start_time": "2024-06-06T14:22:33.596Z"
   },
   {
    "duration": 300,
    "start_time": "2024-06-06T14:23:47.046Z"
   },
   {
    "duration": 8507,
    "start_time": "2024-06-06T14:24:01.930Z"
   },
   {
    "duration": 120,
    "start_time": "2024-06-06T14:24:20.100Z"
   },
   {
    "duration": 26,
    "start_time": "2024-06-06T14:28:57.575Z"
   },
   {
    "duration": 124,
    "start_time": "2024-06-06T14:29:44.427Z"
   },
   {
    "duration": 76,
    "start_time": "2024-06-06T14:29:51.242Z"
   },
   {
    "duration": 1252,
    "start_time": "2024-06-06T14:30:27.686Z"
   },
   {
    "duration": 30,
    "start_time": "2024-06-06T14:32:46.471Z"
   },
   {
    "duration": 143,
    "start_time": "2024-06-06T14:33:05.552Z"
   },
   {
    "duration": 173,
    "start_time": "2024-06-06T14:33:52.795Z"
   },
   {
    "duration": 5,
    "start_time": "2024-06-06T14:35:06.355Z"
   },
   {
    "duration": 177,
    "start_time": "2024-06-06T14:38:22.275Z"
   },
   {
    "duration": 215,
    "start_time": "2024-06-06T14:39:51.110Z"
   },
   {
    "duration": 210,
    "start_time": "2024-06-06T14:40:26.005Z"
   },
   {
    "duration": 216,
    "start_time": "2024-06-06T14:40:43.202Z"
   },
   {
    "duration": 174,
    "start_time": "2024-06-06T14:41:30.601Z"
   },
   {
    "duration": 163,
    "start_time": "2024-06-06T14:41:40.564Z"
   },
   {
    "duration": 29,
    "start_time": "2024-06-06T14:42:35.751Z"
   },
   {
    "duration": 1359,
    "start_time": "2024-06-06T14:43:24.957Z"
   },
   {
    "duration": 1290,
    "start_time": "2024-06-06T14:43:31.768Z"
   },
   {
    "duration": 160,
    "start_time": "2024-06-06T14:43:45.571Z"
   },
   {
    "duration": 228,
    "start_time": "2024-06-06T14:44:04.843Z"
   },
   {
    "duration": 207,
    "start_time": "2024-06-06T14:44:18.494Z"
   },
   {
    "duration": 1145,
    "start_time": "2024-06-06T14:47:43.518Z"
   },
   {
    "duration": 207,
    "start_time": "2024-06-06T14:48:04.436Z"
   },
   {
    "duration": 402,
    "start_time": "2024-06-06T14:48:46.586Z"
   },
   {
    "duration": 621,
    "start_time": "2024-06-06T14:49:11.450Z"
   },
   {
    "duration": 593,
    "start_time": "2024-06-06T14:49:35.986Z"
   },
   {
    "duration": 509,
    "start_time": "2024-06-06T14:50:10.892Z"
   },
   {
    "duration": 448,
    "start_time": "2024-06-06T14:50:20.152Z"
   },
   {
    "duration": 215,
    "start_time": "2024-06-06T14:50:27.701Z"
   },
   {
    "duration": 680,
    "start_time": "2024-06-06T14:51:06.475Z"
   },
   {
    "duration": 5,
    "start_time": "2024-06-06T14:53:35.192Z"
   },
   {
    "duration": 581,
    "start_time": "2024-06-06T14:53:36.371Z"
   },
   {
    "duration": 5,
    "start_time": "2024-06-06T14:54:08.133Z"
   },
   {
    "duration": 4,
    "start_time": "2024-06-06T14:54:23.672Z"
   },
   {
    "duration": 528,
    "start_time": "2024-06-06T14:54:25.567Z"
   },
   {
    "duration": 501,
    "start_time": "2024-06-06T14:54:41.885Z"
   },
   {
    "duration": 180,
    "start_time": "2024-06-06T14:58:45.398Z"
   },
   {
    "duration": 210,
    "start_time": "2024-06-06T14:59:23.226Z"
   },
   {
    "duration": 207,
    "start_time": "2024-06-06T15:00:47.236Z"
   },
   {
    "duration": 210,
    "start_time": "2024-06-06T15:00:56.333Z"
   },
   {
    "duration": 4,
    "start_time": "2024-06-06T15:01:53.291Z"
   },
   {
    "duration": 540,
    "start_time": "2024-06-06T15:01:54.390Z"
   },
   {
    "duration": 23,
    "start_time": "2024-06-06T15:02:52.010Z"
   },
   {
    "duration": 3,
    "start_time": "2024-06-06T15:02:58.222Z"
   },
   {
    "duration": 5,
    "start_time": "2024-06-06T15:03:08.586Z"
   },
   {
    "duration": 4,
    "start_time": "2024-06-06T15:03:20.136Z"
   },
   {
    "duration": 6,
    "start_time": "2024-06-06T15:03:29.931Z"
   },
   {
    "duration": 1656,
    "start_time": "2024-06-06T15:03:44.557Z"
   },
   {
    "duration": 580,
    "start_time": "2024-06-06T15:03:46.216Z"
   },
   {
    "duration": 23,
    "start_time": "2024-06-06T15:03:46.799Z"
   },
   {
    "duration": 20,
    "start_time": "2024-06-06T15:03:46.825Z"
   },
   {
    "duration": 15,
    "start_time": "2024-06-06T15:03:46.850Z"
   },
   {
    "duration": 43,
    "start_time": "2024-06-06T15:03:46.869Z"
   },
   {
    "duration": 11,
    "start_time": "2024-06-06T15:03:46.916Z"
   },
   {
    "duration": 25,
    "start_time": "2024-06-06T15:03:46.930Z"
   },
   {
    "duration": 215,
    "start_time": "2024-06-06T15:03:46.958Z"
   },
   {
    "duration": 198,
    "start_time": "2024-06-06T15:03:47.176Z"
   },
   {
    "duration": 9,
    "start_time": "2024-06-06T15:03:47.378Z"
   },
   {
    "duration": 54,
    "start_time": "2024-06-06T15:03:47.390Z"
   },
   {
    "duration": 6,
    "start_time": "2024-06-06T15:03:47.448Z"
   },
   {
    "duration": 7,
    "start_time": "2024-06-06T15:03:47.462Z"
   },
   {
    "duration": 248,
    "start_time": "2024-06-06T15:03:47.472Z"
   },
   {
    "duration": 87,
    "start_time": "2024-06-06T15:03:47.726Z"
   },
   {
    "duration": 1175,
    "start_time": "2024-06-06T15:03:47.816Z"
   },
   {
    "duration": 59,
    "start_time": "2024-06-06T15:03:48.994Z"
   },
   {
    "duration": 82,
    "start_time": "2024-06-06T15:03:49.057Z"
   },
   {
    "duration": 13,
    "start_time": "2024-06-06T15:03:49.142Z"
   },
   {
    "duration": 278,
    "start_time": "2024-06-06T15:03:49.159Z"
   },
   {
    "duration": 88,
    "start_time": "2024-06-06T15:03:49.439Z"
   },
   {
    "duration": 1582,
    "start_time": "2024-06-06T15:03:49.530Z"
   },
   {
    "duration": 59,
    "start_time": "2024-06-06T15:03:51.116Z"
   },
   {
    "duration": 34,
    "start_time": "2024-06-06T15:03:51.178Z"
   },
   {
    "duration": 29,
    "start_time": "2024-06-06T15:03:51.215Z"
   },
   {
    "duration": 130,
    "start_time": "2024-06-06T15:03:51.247Z"
   },
   {
    "duration": 4,
    "start_time": "2024-06-06T15:03:51.414Z"
   },
   {
    "duration": 2073,
    "start_time": "2024-06-06T15:03:51.421Z"
   },
   {
    "duration": 21,
    "start_time": "2024-06-06T15:03:53.497Z"
   },
   {
    "duration": 133,
    "start_time": "2024-06-06T15:03:53.521Z"
   },
   {
    "duration": 8,
    "start_time": "2024-06-06T15:03:53.656Z"
   },
   {
    "duration": 10,
    "start_time": "2024-06-06T15:03:53.667Z"
   },
   {
    "duration": 33,
    "start_time": "2024-06-06T15:03:53.680Z"
   },
   {
    "duration": 6,
    "start_time": "2024-06-06T15:03:53.716Z"
   },
   {
    "duration": 4,
    "start_time": "2024-06-06T15:03:53.725Z"
   },
   {
    "duration": 481,
    "start_time": "2024-06-06T15:03:53.733Z"
   },
   {
    "duration": 0,
    "start_time": "2024-06-06T15:03:54.218Z"
   },
   {
    "duration": 0,
    "start_time": "2024-06-06T15:03:54.221Z"
   },
   {
    "duration": 0,
    "start_time": "2024-06-06T15:03:54.224Z"
   },
   {
    "duration": 0,
    "start_time": "2024-06-06T15:03:54.225Z"
   },
   {
    "duration": 0,
    "start_time": "2024-06-06T15:03:54.227Z"
   },
   {
    "duration": 0,
    "start_time": "2024-06-06T15:03:54.229Z"
   },
   {
    "duration": 0,
    "start_time": "2024-06-06T15:03:54.231Z"
   },
   {
    "duration": 33,
    "start_time": "2024-06-06T15:04:07.599Z"
   },
   {
    "duration": 35,
    "start_time": "2024-06-06T15:04:19.562Z"
   },
   {
    "duration": 33,
    "start_time": "2024-06-06T15:04:37.169Z"
   },
   {
    "duration": 34,
    "start_time": "2024-06-06T15:04:56.271Z"
   },
   {
    "duration": 37,
    "start_time": "2024-06-06T15:05:08.078Z"
   },
   {
    "duration": 36,
    "start_time": "2024-06-06T15:06:12.893Z"
   },
   {
    "duration": 46,
    "start_time": "2024-06-06T15:06:21.303Z"
   },
   {
    "duration": 5,
    "start_time": "2024-06-06T15:06:33.582Z"
   },
   {
    "duration": 584,
    "start_time": "2024-06-06T15:06:35.484Z"
   },
   {
    "duration": 220,
    "start_time": "2024-06-06T15:07:05.803Z"
   },
   {
    "duration": 18,
    "start_time": "2024-06-06T15:07:08.018Z"
   },
   {
    "duration": 129,
    "start_time": "2024-06-06T15:07:14.207Z"
   },
   {
    "duration": 13,
    "start_time": "2024-06-06T15:07:16.428Z"
   },
   {
    "duration": 914,
    "start_time": "2024-06-06T15:07:19.223Z"
   },
   {
    "duration": 20,
    "start_time": "2024-06-06T15:07:21.331Z"
   },
   {
    "duration": 927,
    "start_time": "2024-06-06T15:07:23.143Z"
   },
   {
    "duration": 6,
    "start_time": "2024-06-06T15:07:28.277Z"
   },
   {
    "duration": 690,
    "start_time": "2024-06-06T15:07:28.288Z"
   },
   {
    "duration": 18,
    "start_time": "2024-06-06T15:07:28.981Z"
   },
   {
    "duration": 17,
    "start_time": "2024-06-06T15:07:29.002Z"
   },
   {
    "duration": 15,
    "start_time": "2024-06-06T15:07:29.024Z"
   },
   {
    "duration": 9,
    "start_time": "2024-06-06T15:07:29.041Z"
   },
   {
    "duration": 8,
    "start_time": "2024-06-06T15:07:29.053Z"
   },
   {
    "duration": 52,
    "start_time": "2024-06-06T15:07:29.064Z"
   },
   {
    "duration": 190,
    "start_time": "2024-06-06T15:07:29.120Z"
   },
   {
    "duration": 194,
    "start_time": "2024-06-06T15:07:29.313Z"
   },
   {
    "duration": 8,
    "start_time": "2024-06-06T15:07:29.513Z"
   },
   {
    "duration": 34,
    "start_time": "2024-06-06T15:07:29.524Z"
   },
   {
    "duration": 7,
    "start_time": "2024-06-06T15:07:29.561Z"
   },
   {
    "duration": 42,
    "start_time": "2024-06-06T15:07:29.575Z"
   },
   {
    "duration": 206,
    "start_time": "2024-06-06T15:07:29.620Z"
   },
   {
    "duration": 90,
    "start_time": "2024-06-06T15:07:29.828Z"
   },
   {
    "duration": 1215,
    "start_time": "2024-06-06T15:07:29.921Z"
   },
   {
    "duration": 51,
    "start_time": "2024-06-06T15:07:31.140Z"
   },
   {
    "duration": 61,
    "start_time": "2024-06-06T15:07:31.213Z"
   },
   {
    "duration": 37,
    "start_time": "2024-06-06T15:07:31.277Z"
   },
   {
    "duration": 305,
    "start_time": "2024-06-06T15:07:31.319Z"
   },
   {
    "duration": 92,
    "start_time": "2024-06-06T15:07:31.627Z"
   },
   {
    "duration": 1508,
    "start_time": "2024-06-06T15:07:31.728Z"
   },
   {
    "duration": 75,
    "start_time": "2024-06-06T15:07:33.239Z"
   },
   {
    "duration": 15,
    "start_time": "2024-06-06T15:07:33.318Z"
   },
   {
    "duration": 30,
    "start_time": "2024-06-06T15:07:33.336Z"
   },
   {
    "duration": 156,
    "start_time": "2024-06-06T15:07:33.369Z"
   },
   {
    "duration": 8,
    "start_time": "2024-06-06T15:07:33.528Z"
   },
   {
    "duration": 2055,
    "start_time": "2024-06-06T15:07:33.539Z"
   },
   {
    "duration": 20,
    "start_time": "2024-06-06T15:07:35.596Z"
   },
   {
    "duration": 136,
    "start_time": "2024-06-06T15:07:35.619Z"
   },
   {
    "duration": 8,
    "start_time": "2024-06-06T15:07:35.758Z"
   },
   {
    "duration": 13,
    "start_time": "2024-06-06T15:07:35.769Z"
   },
   {
    "duration": 5,
    "start_time": "2024-06-06T15:07:35.811Z"
   },
   {
    "duration": 4,
    "start_time": "2024-06-06T15:07:35.819Z"
   },
   {
    "duration": 521,
    "start_time": "2024-06-06T15:07:35.827Z"
   },
   {
    "duration": 4,
    "start_time": "2024-06-06T15:07:36.351Z"
   },
   {
    "duration": 4,
    "start_time": "2024-06-06T15:07:36.358Z"
   },
   {
    "duration": 4,
    "start_time": "2024-06-06T15:07:36.365Z"
   },
   {
    "duration": 5,
    "start_time": "2024-06-06T15:07:36.371Z"
   },
   {
    "duration": 3,
    "start_time": "2024-06-06T15:07:36.422Z"
   },
   {
    "duration": 4,
    "start_time": "2024-06-06T15:07:36.429Z"
   },
   {
    "duration": 5,
    "start_time": "2024-06-06T15:07:36.436Z"
   },
   {
    "duration": 4,
    "start_time": "2024-06-06T15:08:31.384Z"
   },
   {
    "duration": 2276,
    "start_time": "2024-06-06T15:08:32.906Z"
   },
   {
    "duration": 14,
    "start_time": "2024-06-06T15:08:36.842Z"
   },
   {
    "duration": 8,
    "start_time": "2024-06-06T15:09:27.243Z"
   },
   {
    "duration": 208,
    "start_time": "2024-06-06T15:09:29.303Z"
   },
   {
    "duration": 13,
    "start_time": "2024-06-06T15:09:30.690Z"
   },
   {
    "duration": 1053,
    "start_time": "2024-06-06T15:09:43.805Z"
   },
   {
    "duration": 71,
    "start_time": "2024-06-06T15:09:46.041Z"
   },
   {
    "duration": 57,
    "start_time": "2024-06-06T15:09:50.191Z"
   },
   {
    "duration": 12,
    "start_time": "2024-06-06T15:09:51.333Z"
   },
   {
    "duration": 243,
    "start_time": "2024-06-06T15:10:02.376Z"
   },
   {
    "duration": 25,
    "start_time": "2024-06-06T15:10:03.735Z"
   },
   {
    "duration": 1349,
    "start_time": "2024-06-06T15:10:05.344Z"
   },
   {
    "duration": 57,
    "start_time": "2024-06-06T15:10:09.175Z"
   },
   {
    "duration": 13,
    "start_time": "2024-06-06T15:10:10.782Z"
   },
   {
    "duration": 112,
    "start_time": "2024-06-06T15:10:15.409Z"
   },
   {
    "duration": 5,
    "start_time": "2024-06-06T15:10:17.333Z"
   },
   {
    "duration": 2221,
    "start_time": "2024-06-06T15:10:18.401Z"
   },
   {
    "duration": 11,
    "start_time": "2024-06-06T15:10:20.626Z"
   },
   {
    "duration": 113,
    "start_time": "2024-06-06T15:10:24.947Z"
   },
   {
    "duration": 6,
    "start_time": "2024-06-06T15:10:26.910Z"
   },
   {
    "duration": 11,
    "start_time": "2024-06-06T15:10:27.885Z"
   },
   {
    "duration": 5,
    "start_time": "2024-06-06T15:10:30.471Z"
   },
   {
    "duration": 503,
    "start_time": "2024-06-06T15:10:32.280Z"
   },
   {
    "duration": 165,
    "start_time": "2024-06-06T15:11:49.352Z"
   },
   {
    "duration": 12,
    "start_time": "2024-06-06T15:11:50.565Z"
   },
   {
    "duration": 109,
    "start_time": "2024-06-06T15:11:56.626Z"
   },
   {
    "duration": 15,
    "start_time": "2024-06-06T15:11:57.599Z"
   },
   {
    "duration": 190,
    "start_time": "2024-06-06T15:12:00.426Z"
   },
   {
    "duration": 19,
    "start_time": "2024-06-06T15:12:01.342Z"
   },
   {
    "duration": 135,
    "start_time": "2024-06-06T15:12:06.384Z"
   },
   {
    "duration": 14,
    "start_time": "2024-06-06T15:12:07.459Z"
   },
   {
    "duration": 56,
    "start_time": "2024-06-06T15:12:26.736Z"
   },
   {
    "duration": 14,
    "start_time": "2024-06-06T15:12:28.724Z"
   },
   {
    "duration": 1629,
    "start_time": "2024-06-06T15:12:49.350Z"
   },
   {
    "duration": 612,
    "start_time": "2024-06-06T15:12:50.983Z"
   },
   {
    "duration": 23,
    "start_time": "2024-06-06T15:12:51.597Z"
   },
   {
    "duration": 21,
    "start_time": "2024-06-06T15:12:51.623Z"
   },
   {
    "duration": 13,
    "start_time": "2024-06-06T15:12:51.649Z"
   },
   {
    "duration": 9,
    "start_time": "2024-06-06T15:12:51.665Z"
   },
   {
    "duration": 9,
    "start_time": "2024-06-06T15:12:51.714Z"
   },
   {
    "duration": 20,
    "start_time": "2024-06-06T15:12:51.726Z"
   },
   {
    "duration": 207,
    "start_time": "2024-06-06T15:12:51.750Z"
   },
   {
    "duration": 207,
    "start_time": "2024-06-06T15:12:51.959Z"
   },
   {
    "duration": 8,
    "start_time": "2024-06-06T15:12:52.169Z"
   },
   {
    "duration": 55,
    "start_time": "2024-06-06T15:12:52.180Z"
   },
   {
    "duration": 7,
    "start_time": "2024-06-06T15:12:52.238Z"
   },
   {
    "duration": 8,
    "start_time": "2024-06-06T15:12:52.253Z"
   },
   {
    "duration": 84,
    "start_time": "2024-06-06T15:12:52.263Z"
   },
   {
    "duration": 63,
    "start_time": "2024-06-06T15:12:52.350Z"
   },
   {
    "duration": 1130,
    "start_time": "2024-06-06T15:12:52.417Z"
   },
   {
    "duration": 71,
    "start_time": "2024-06-06T15:12:53.550Z"
   },
   {
    "duration": 57,
    "start_time": "2024-06-06T15:12:53.624Z"
   },
   {
    "duration": 33,
    "start_time": "2024-06-06T15:12:53.684Z"
   },
   {
    "duration": 407,
    "start_time": "2024-06-06T15:12:53.720Z"
   },
   {
    "duration": 90,
    "start_time": "2024-06-06T15:12:54.130Z"
   },
   {
    "duration": 1464,
    "start_time": "2024-06-06T15:12:54.223Z"
   },
   {
    "duration": 68,
    "start_time": "2024-06-06T15:12:55.690Z"
   },
   {
    "duration": 13,
    "start_time": "2024-06-06T15:12:55.761Z"
   },
   {
    "duration": 56,
    "start_time": "2024-06-06T15:12:55.777Z"
   },
   {
    "duration": 119,
    "start_time": "2024-06-06T15:12:55.836Z"
   },
   {
    "duration": 55,
    "start_time": "2024-06-06T15:12:55.957Z"
   },
   {
    "duration": 2314,
    "start_time": "2024-06-06T15:12:56.016Z"
   },
   {
    "duration": 11,
    "start_time": "2024-06-06T15:12:58.333Z"
   },
   {
    "duration": 139,
    "start_time": "2024-06-06T15:12:58.347Z"
   },
   {
    "duration": 8,
    "start_time": "2024-06-06T15:12:58.489Z"
   },
   {
    "duration": 14,
    "start_time": "2024-06-06T15:12:58.512Z"
   },
   {
    "duration": 5,
    "start_time": "2024-06-06T15:12:58.530Z"
   },
   {
    "duration": 546,
    "start_time": "2024-06-06T15:12:58.539Z"
   },
   {
    "duration": 3,
    "start_time": "2024-06-06T15:12:59.088Z"
   },
   {
    "duration": 18,
    "start_time": "2024-06-06T15:12:59.095Z"
   },
   {
    "duration": 4,
    "start_time": "2024-06-06T15:12:59.116Z"
   },
   {
    "duration": 4,
    "start_time": "2024-06-06T15:12:59.124Z"
   },
   {
    "duration": 4,
    "start_time": "2024-06-06T15:12:59.132Z"
   },
   {
    "duration": 4,
    "start_time": "2024-06-06T15:12:59.145Z"
   },
   {
    "duration": 3,
    "start_time": "2024-06-06T15:12:59.153Z"
   },
   {
    "duration": 9,
    "start_time": "2024-06-06T15:13:32.791Z"
   },
   {
    "duration": 57,
    "start_time": "2024-06-06T15:13:34.253Z"
   },
   {
    "duration": 23,
    "start_time": "2024-06-06T15:13:35.516Z"
   },
   {
    "duration": 1031,
    "start_time": "2024-06-06T15:13:36.932Z"
   },
   {
    "duration": 63,
    "start_time": "2024-06-06T15:13:38.168Z"
   },
   {
    "duration": 67,
    "start_time": "2024-06-06T15:13:41.493Z"
   },
   {
    "duration": 14,
    "start_time": "2024-06-06T15:13:42.285Z"
   },
   {
    "duration": 205,
    "start_time": "2024-06-06T15:13:45.135Z"
   },
   {
    "duration": 18,
    "start_time": "2024-06-06T15:13:45.957Z"
   },
   {
    "duration": 1399,
    "start_time": "2024-06-06T15:13:47.713Z"
   },
   {
    "duration": 30,
    "start_time": "2024-06-06T15:13:51.775Z"
   },
   {
    "duration": 147,
    "start_time": "2024-06-06T15:13:53.371Z"
   },
   {
    "duration": 2253,
    "start_time": "2024-06-06T15:13:56.169Z"
   },
   {
    "duration": 11,
    "start_time": "2024-06-06T15:13:58.426Z"
   },
   {
    "duration": 112,
    "start_time": "2024-06-06T15:14:04.293Z"
   },
   {
    "duration": 8,
    "start_time": "2024-06-06T15:14:07.146Z"
   },
   {
    "duration": 530,
    "start_time": "2024-06-06T15:14:12.956Z"
   },
   {
    "duration": 11,
    "start_time": "2024-06-06T15:15:57.236Z"
   },
   {
    "duration": 311,
    "start_time": "2024-06-06T15:16:47.042Z"
   },
   {
    "duration": 25,
    "start_time": "2024-06-06T15:16:55.378Z"
   },
   {
    "duration": 1633,
    "start_time": "2024-06-06T15:17:09.213Z"
   },
   {
    "duration": 613,
    "start_time": "2024-06-06T15:17:10.851Z"
   },
   {
    "duration": 23,
    "start_time": "2024-06-06T15:17:11.466Z"
   },
   {
    "duration": 21,
    "start_time": "2024-06-06T15:17:11.492Z"
   },
   {
    "duration": 18,
    "start_time": "2024-06-06T15:17:11.519Z"
   },
   {
    "duration": 9,
    "start_time": "2024-06-06T15:17:11.541Z"
   },
   {
    "duration": 11,
    "start_time": "2024-06-06T15:17:11.553Z"
   },
   {
    "duration": 56,
    "start_time": "2024-06-06T15:17:11.567Z"
   },
   {
    "duration": 198,
    "start_time": "2024-06-06T15:17:11.627Z"
   },
   {
    "duration": 199,
    "start_time": "2024-06-06T15:17:11.828Z"
   },
   {
    "duration": 9,
    "start_time": "2024-06-06T15:17:12.030Z"
   },
   {
    "duration": 34,
    "start_time": "2024-06-06T15:17:12.044Z"
   },
   {
    "duration": 35,
    "start_time": "2024-06-06T15:17:12.081Z"
   },
   {
    "duration": 8,
    "start_time": "2024-06-06T15:17:12.123Z"
   },
   {
    "duration": 48,
    "start_time": "2024-06-06T15:17:12.133Z"
   },
   {
    "duration": 45,
    "start_time": "2024-06-06T15:17:12.184Z"
   },
   {
    "duration": 1158,
    "start_time": "2024-06-06T15:17:12.232Z"
   },
   {
    "duration": 75,
    "start_time": "2024-06-06T15:17:13.394Z"
   },
   {
    "duration": 72,
    "start_time": "2024-06-06T15:17:13.472Z"
   },
   {
    "duration": 13,
    "start_time": "2024-06-06T15:17:13.547Z"
   },
   {
    "duration": 273,
    "start_time": "2024-06-06T15:17:13.562Z"
   },
   {
    "duration": 88,
    "start_time": "2024-06-06T15:17:13.838Z"
   },
   {
    "duration": 1420,
    "start_time": "2024-06-06T15:17:13.930Z"
   },
   {
    "duration": 66,
    "start_time": "2024-06-06T15:17:15.353Z"
   },
   {
    "duration": 13,
    "start_time": "2024-06-06T15:17:15.421Z"
   },
   {
    "duration": 29,
    "start_time": "2024-06-06T15:17:15.438Z"
   },
   {
    "duration": 144,
    "start_time": "2024-06-06T15:17:15.470Z"
   },
   {
    "duration": 11,
    "start_time": "2024-06-06T15:17:15.617Z"
   },
   {
    "duration": 2347,
    "start_time": "2024-06-06T15:17:15.632Z"
   },
   {
    "duration": 12,
    "start_time": "2024-06-06T15:17:17.982Z"
   },
   {
    "duration": 132,
    "start_time": "2024-06-06T15:17:17.997Z"
   },
   {
    "duration": 8,
    "start_time": "2024-06-06T15:17:18.132Z"
   },
   {
    "duration": 11,
    "start_time": "2024-06-06T15:17:18.143Z"
   },
   {
    "duration": 6,
    "start_time": "2024-06-06T15:17:18.158Z"
   },
   {
    "duration": 563,
    "start_time": "2024-06-06T15:17:18.168Z"
   },
   {
    "duration": 4,
    "start_time": "2024-06-06T15:17:18.734Z"
   },
   {
    "duration": 4,
    "start_time": "2024-06-06T15:17:18.741Z"
   },
   {
    "duration": 4,
    "start_time": "2024-06-06T15:17:18.748Z"
   },
   {
    "duration": 5,
    "start_time": "2024-06-06T15:17:18.755Z"
   },
   {
    "duration": 4,
    "start_time": "2024-06-06T15:17:18.763Z"
   },
   {
    "duration": 4,
    "start_time": "2024-06-06T15:17:18.818Z"
   },
   {
    "duration": 4,
    "start_time": "2024-06-06T15:17:18.826Z"
   },
   {
    "duration": 1195,
    "start_time": "2024-06-06T15:17:59.106Z"
   },
   {
    "duration": 219,
    "start_time": "2024-06-06T15:18:21.399Z"
   },
   {
    "duration": 15,
    "start_time": "2024-06-06T15:18:22.774Z"
   },
   {
    "duration": 51,
    "start_time": "2024-06-06T15:18:42.056Z"
   },
   {
    "duration": 583,
    "start_time": "2024-06-06T15:18:57.315Z"
   },
   {
    "duration": 35,
    "start_time": "2024-06-06T15:19:05.865Z"
   },
   {
    "duration": 66,
    "start_time": "2024-06-06T15:19:13.725Z"
   },
   {
    "duration": 13,
    "start_time": "2024-06-06T15:19:16.108Z"
   },
   {
    "duration": 68,
    "start_time": "2024-06-06T15:19:22.105Z"
   },
   {
    "duration": 13,
    "start_time": "2024-06-06T15:19:57.035Z"
   },
   {
    "duration": 1627,
    "start_time": "2024-06-06T15:20:10.773Z"
   },
   {
    "duration": 723,
    "start_time": "2024-06-06T15:20:12.403Z"
   },
   {
    "duration": 22,
    "start_time": "2024-06-06T15:20:13.129Z"
   },
   {
    "duration": 19,
    "start_time": "2024-06-06T15:20:13.155Z"
   },
   {
    "duration": 47,
    "start_time": "2024-06-06T15:20:13.177Z"
   },
   {
    "duration": 8,
    "start_time": "2024-06-06T15:20:13.229Z"
   },
   {
    "duration": 9,
    "start_time": "2024-06-06T15:20:13.240Z"
   },
   {
    "duration": 20,
    "start_time": "2024-06-06T15:20:13.252Z"
   },
   {
    "duration": 242,
    "start_time": "2024-06-06T15:20:13.275Z"
   },
   {
    "duration": 216,
    "start_time": "2024-06-06T15:20:13.523Z"
   },
   {
    "duration": 9,
    "start_time": "2024-06-06T15:20:13.742Z"
   },
   {
    "duration": 61,
    "start_time": "2024-06-06T15:20:13.754Z"
   },
   {
    "duration": 8,
    "start_time": "2024-06-06T15:20:13.821Z"
   },
   {
    "duration": 9,
    "start_time": "2024-06-06T15:20:13.832Z"
   },
   {
    "duration": 74,
    "start_time": "2024-06-06T15:20:13.844Z"
   },
   {
    "duration": 17,
    "start_time": "2024-06-06T15:20:13.922Z"
   },
   {
    "duration": 1126,
    "start_time": "2024-06-06T15:20:13.942Z"
   },
   {
    "duration": 77,
    "start_time": "2024-06-06T15:20:15.070Z"
   },
   {
    "duration": 64,
    "start_time": "2024-06-06T15:20:15.150Z"
   },
   {
    "duration": 15,
    "start_time": "2024-06-06T15:20:15.218Z"
   },
   {
    "duration": 289,
    "start_time": "2024-06-06T15:20:15.236Z"
   },
   {
    "duration": 89,
    "start_time": "2024-06-06T15:20:15.531Z"
   },
   {
    "duration": 1401,
    "start_time": "2024-06-06T15:20:15.624Z"
   },
   {
    "duration": 90,
    "start_time": "2024-06-06T15:20:17.028Z"
   },
   {
    "duration": 13,
    "start_time": "2024-06-06T15:20:17.121Z"
   },
   {
    "duration": 29,
    "start_time": "2024-06-06T15:20:17.138Z"
   },
   {
    "duration": 145,
    "start_time": "2024-06-06T15:20:17.170Z"
   },
   {
    "duration": 4,
    "start_time": "2024-06-06T15:20:17.323Z"
   },
   {
    "duration": 2339,
    "start_time": "2024-06-06T15:20:17.331Z"
   },
   {
    "duration": 11,
    "start_time": "2024-06-06T15:20:19.673Z"
   },
   {
    "duration": 133,
    "start_time": "2024-06-06T15:20:19.687Z"
   },
   {
    "duration": 8,
    "start_time": "2024-06-06T15:20:19.823Z"
   },
   {
    "duration": 12,
    "start_time": "2024-06-06T15:20:19.833Z"
   },
   {
    "duration": 5,
    "start_time": "2024-06-06T15:20:19.848Z"
   },
   {
    "duration": 557,
    "start_time": "2024-06-06T15:20:19.857Z"
   },
   {
    "duration": 4,
    "start_time": "2024-06-06T15:20:20.418Z"
   },
   {
    "duration": 3,
    "start_time": "2024-06-06T15:20:20.426Z"
   },
   {
    "duration": 4,
    "start_time": "2024-06-06T15:20:20.432Z"
   },
   {
    "duration": 5,
    "start_time": "2024-06-06T15:20:20.439Z"
   },
   {
    "duration": 6,
    "start_time": "2024-06-06T15:20:20.447Z"
   },
   {
    "duration": 55,
    "start_time": "2024-06-06T15:20:20.457Z"
   },
   {
    "duration": 3,
    "start_time": "2024-06-06T15:20:20.515Z"
   },
   {
    "duration": 578,
    "start_time": "2024-06-06T15:20:44.622Z"
   },
   {
    "duration": 1153,
    "start_time": "2024-06-06T15:20:52.486Z"
   },
   {
    "duration": 78,
    "start_time": "2024-06-06T15:20:55.159Z"
   },
   {
    "duration": 1137,
    "start_time": "2024-06-06T15:20:59.931Z"
   },
   {
    "duration": 74,
    "start_time": "2024-06-06T15:21:03.728Z"
   },
   {
    "duration": 85,
    "start_time": "2024-06-06T15:22:44.612Z"
   },
   {
    "duration": 18,
    "start_time": "2024-06-06T15:22:46.989Z"
   },
   {
    "duration": 745,
    "start_time": "2024-06-06T15:22:58.503Z"
   },
   {
    "duration": 65,
    "start_time": "2024-06-06T15:23:01.464Z"
   },
   {
    "duration": 1577,
    "start_time": "2024-06-06T15:23:08.154Z"
   },
   {
    "duration": 583,
    "start_time": "2024-06-06T15:23:09.735Z"
   },
   {
    "duration": 27,
    "start_time": "2024-06-06T15:23:10.321Z"
   },
   {
    "duration": 22,
    "start_time": "2024-06-06T15:23:10.353Z"
   },
   {
    "duration": 40,
    "start_time": "2024-06-06T15:23:10.378Z"
   },
   {
    "duration": 9,
    "start_time": "2024-06-06T15:23:10.422Z"
   },
   {
    "duration": 10,
    "start_time": "2024-06-06T15:23:10.438Z"
   },
   {
    "duration": 20,
    "start_time": "2024-06-06T15:23:10.451Z"
   },
   {
    "duration": 186,
    "start_time": "2024-06-06T15:23:10.513Z"
   },
   {
    "duration": 186,
    "start_time": "2024-06-06T15:23:10.712Z"
   },
   {
    "duration": 17,
    "start_time": "2024-06-06T15:23:10.901Z"
   },
   {
    "duration": 41,
    "start_time": "2024-06-06T15:23:10.922Z"
   },
   {
    "duration": 14,
    "start_time": "2024-06-06T15:23:10.968Z"
   },
   {
    "duration": 8,
    "start_time": "2024-06-06T15:23:11.012Z"
   },
   {
    "duration": 59,
    "start_time": "2024-06-06T15:23:11.023Z"
   },
   {
    "duration": 38,
    "start_time": "2024-06-06T15:23:11.085Z"
   },
   {
    "duration": 962,
    "start_time": "2024-06-06T15:23:11.130Z"
   },
   {
    "duration": 60,
    "start_time": "2024-06-06T15:23:12.095Z"
   },
   {
    "duration": 69,
    "start_time": "2024-06-06T15:23:12.159Z"
   },
   {
    "duration": 17,
    "start_time": "2024-06-06T15:23:12.231Z"
   },
   {
    "duration": 278,
    "start_time": "2024-06-06T15:23:12.251Z"
   },
   {
    "duration": 92,
    "start_time": "2024-06-06T15:23:12.532Z"
   },
   {
    "duration": 1463,
    "start_time": "2024-06-06T15:23:12.628Z"
   },
   {
    "duration": 79,
    "start_time": "2024-06-06T15:23:14.094Z"
   },
   {
    "duration": 15,
    "start_time": "2024-06-06T15:23:14.176Z"
   },
   {
    "duration": 49,
    "start_time": "2024-06-06T15:23:14.193Z"
   },
   {
    "duration": 111,
    "start_time": "2024-06-06T15:23:14.245Z"
   },
   {
    "duration": 4,
    "start_time": "2024-06-06T15:23:14.413Z"
   },
   {
    "duration": 2297,
    "start_time": "2024-06-06T15:23:14.420Z"
   },
   {
    "duration": 11,
    "start_time": "2024-06-06T15:23:16.720Z"
   },
   {
    "duration": 131,
    "start_time": "2024-06-06T15:23:16.734Z"
   },
   {
    "duration": 7,
    "start_time": "2024-06-06T15:23:16.868Z"
   },
   {
    "duration": 10,
    "start_time": "2024-06-06T15:23:16.879Z"
   },
   {
    "duration": 7,
    "start_time": "2024-06-06T15:23:16.913Z"
   },
   {
    "duration": 519,
    "start_time": "2024-06-06T15:23:16.923Z"
   },
   {
    "duration": 4,
    "start_time": "2024-06-06T15:23:17.445Z"
   },
   {
    "duration": 4,
    "start_time": "2024-06-06T15:23:17.452Z"
   },
   {
    "duration": 4,
    "start_time": "2024-06-06T15:23:17.459Z"
   },
   {
    "duration": 5,
    "start_time": "2024-06-06T15:23:17.465Z"
   },
   {
    "duration": 43,
    "start_time": "2024-06-06T15:23:17.473Z"
   },
   {
    "duration": 3,
    "start_time": "2024-06-06T15:23:17.519Z"
   },
   {
    "duration": 4,
    "start_time": "2024-06-06T15:23:17.525Z"
   },
   {
    "duration": 5160,
    "start_time": "2024-06-06T22:09:18.314Z"
   },
   {
    "duration": 668,
    "start_time": "2024-06-06T22:09:23.478Z"
   },
   {
    "duration": 22,
    "start_time": "2024-06-06T22:09:24.150Z"
   },
   {
    "duration": 21,
    "start_time": "2024-06-06T22:09:24.177Z"
   },
   {
    "duration": 15,
    "start_time": "2024-06-06T22:09:24.201Z"
   },
   {
    "duration": 8,
    "start_time": "2024-06-06T22:09:24.219Z"
   },
   {
    "duration": 9,
    "start_time": "2024-06-06T22:09:24.230Z"
   },
   {
    "duration": 60,
    "start_time": "2024-06-06T22:09:24.242Z"
   },
   {
    "duration": 262,
    "start_time": "2024-06-06T22:09:24.305Z"
   },
   {
    "duration": 188,
    "start_time": "2024-06-06T22:09:24.575Z"
   },
   {
    "duration": 9,
    "start_time": "2024-06-06T22:09:24.766Z"
   },
   {
    "duration": 57,
    "start_time": "2024-06-06T22:09:24.778Z"
   },
   {
    "duration": 7,
    "start_time": "2024-06-06T22:09:24.837Z"
   },
   {
    "duration": 9,
    "start_time": "2024-06-06T22:09:24.847Z"
   },
   {
    "duration": 86,
    "start_time": "2024-06-06T22:09:24.858Z"
   },
   {
    "duration": 52,
    "start_time": "2024-06-06T22:09:24.949Z"
   },
   {
    "duration": 863,
    "start_time": "2024-06-06T22:09:25.004Z"
   },
   {
    "duration": 69,
    "start_time": "2024-06-06T22:09:25.870Z"
   },
   {
    "duration": 65,
    "start_time": "2024-06-06T22:09:25.945Z"
   },
   {
    "duration": 15,
    "start_time": "2024-06-06T22:09:26.014Z"
   },
   {
    "duration": 385,
    "start_time": "2024-06-06T22:09:26.032Z"
   },
   {
    "duration": 86,
    "start_time": "2024-06-06T22:09:26.420Z"
   },
   {
    "duration": 1363,
    "start_time": "2024-06-06T22:09:26.510Z"
   },
   {
    "duration": 83,
    "start_time": "2024-06-06T22:09:27.876Z"
   },
   {
    "duration": 14,
    "start_time": "2024-06-06T22:09:27.963Z"
   },
   {
    "duration": 45,
    "start_time": "2024-06-06T22:09:27.980Z"
   },
   {
    "duration": 121,
    "start_time": "2024-06-06T22:09:28.028Z"
   },
   {
    "duration": 47,
    "start_time": "2024-06-06T22:09:28.158Z"
   },
   {
    "duration": 2281,
    "start_time": "2024-06-06T22:09:28.209Z"
   },
   {
    "duration": 12,
    "start_time": "2024-06-06T22:09:30.501Z"
   },
   {
    "duration": 131,
    "start_time": "2024-06-06T22:09:30.516Z"
   },
   {
    "duration": 7,
    "start_time": "2024-06-06T22:09:30.650Z"
   },
   {
    "duration": 11,
    "start_time": "2024-06-06T22:09:30.661Z"
   },
   {
    "duration": 28,
    "start_time": "2024-06-06T22:09:30.675Z"
   },
   {
    "duration": 514,
    "start_time": "2024-06-06T22:09:30.707Z"
   },
   {
    "duration": 3,
    "start_time": "2024-06-06T22:09:31.224Z"
   },
   {
    "duration": 6,
    "start_time": "2024-06-06T22:09:31.231Z"
   },
   {
    "duration": 5,
    "start_time": "2024-06-06T22:09:31.239Z"
   },
   {
    "duration": 5,
    "start_time": "2024-06-06T22:09:31.247Z"
   },
   {
    "duration": 5,
    "start_time": "2024-06-06T22:09:31.255Z"
   },
   {
    "duration": 4,
    "start_time": "2024-06-06T22:09:31.303Z"
   },
   {
    "duration": 4,
    "start_time": "2024-06-06T22:09:31.310Z"
   },
   {
    "duration": 21,
    "start_time": "2024-06-06T22:12:45.817Z"
   },
   {
    "duration": 543,
    "start_time": "2024-06-06T22:14:15.855Z"
   },
   {
    "duration": 13,
    "start_time": "2024-06-06T22:14:24.288Z"
   },
   {
    "duration": 13,
    "start_time": "2024-06-06T22:14:36.051Z"
   },
   {
    "duration": 75,
    "start_time": "2024-06-06T22:15:14.460Z"
   },
   {
    "duration": 13,
    "start_time": "2024-06-06T22:15:16.917Z"
   },
   {
    "duration": 8,
    "start_time": "2024-06-06T22:19:56.387Z"
   },
   {
    "duration": 7,
    "start_time": "2024-06-06T22:20:02.872Z"
   },
   {
    "duration": 79,
    "start_time": "2024-06-06T22:20:21.106Z"
   },
   {
    "duration": 15,
    "start_time": "2024-06-06T22:20:23.782Z"
   },
   {
    "duration": 5,
    "start_time": "2024-06-06T22:20:54.107Z"
   },
   {
    "duration": 112,
    "start_time": "2024-06-06T22:20:58.225Z"
   },
   {
    "duration": 6,
    "start_time": "2024-06-06T22:21:00.099Z"
   },
   {
    "duration": 10,
    "start_time": "2024-06-06T22:21:01.281Z"
   },
   {
    "duration": 5360,
    "start_time": "2024-06-07T11:14:36.795Z"
   },
   {
    "duration": 695,
    "start_time": "2024-06-07T11:14:42.159Z"
   },
   {
    "duration": 24,
    "start_time": "2024-06-07T11:14:42.857Z"
   },
   {
    "duration": 19,
    "start_time": "2024-06-07T11:14:42.884Z"
   },
   {
    "duration": 15,
    "start_time": "2024-06-07T11:14:42.922Z"
   },
   {
    "duration": 9,
    "start_time": "2024-06-07T11:14:42.940Z"
   },
   {
    "duration": 9,
    "start_time": "2024-06-07T11:14:42.953Z"
   },
   {
    "duration": 62,
    "start_time": "2024-06-07T11:14:42.964Z"
   },
   {
    "duration": 195,
    "start_time": "2024-06-07T11:14:43.030Z"
   },
   {
    "duration": 260,
    "start_time": "2024-06-07T11:14:43.229Z"
   },
   {
    "duration": 10,
    "start_time": "2024-06-07T11:14:43.492Z"
   },
   {
    "duration": 36,
    "start_time": "2024-06-07T11:14:43.522Z"
   },
   {
    "duration": 8,
    "start_time": "2024-06-07T11:14:43.561Z"
   },
   {
    "duration": 9,
    "start_time": "2024-06-07T11:14:43.576Z"
   },
   {
    "duration": 57,
    "start_time": "2024-06-07T11:14:43.624Z"
   },
   {
    "duration": 52,
    "start_time": "2024-06-07T11:14:43.684Z"
   },
   {
    "duration": 913,
    "start_time": "2024-06-07T11:14:43.740Z"
   },
   {
    "duration": 66,
    "start_time": "2024-06-07T11:14:44.657Z"
   },
   {
    "duration": 36,
    "start_time": "2024-06-07T11:14:44.726Z"
   },
   {
    "duration": 15,
    "start_time": "2024-06-07T11:14:44.765Z"
   },
   {
    "duration": 346,
    "start_time": "2024-06-07T11:14:44.782Z"
   },
   {
    "duration": 93,
    "start_time": "2024-06-07T11:14:45.131Z"
   },
   {
    "duration": 715,
    "start_time": "2024-06-07T11:14:45.227Z"
   },
   {
    "duration": 37,
    "start_time": "2024-06-07T11:14:45.945Z"
   },
   {
    "duration": 42,
    "start_time": "2024-06-07T11:14:45.985Z"
   },
   {
    "duration": 28,
    "start_time": "2024-06-07T11:14:46.030Z"
   },
   {
    "duration": 125,
    "start_time": "2024-06-07T11:14:46.061Z"
   },
   {
    "duration": 35,
    "start_time": "2024-06-07T11:14:46.188Z"
   },
   {
    "duration": 1249,
    "start_time": "2024-06-07T11:14:46.227Z"
   },
   {
    "duration": 13,
    "start_time": "2024-06-07T11:14:47.479Z"
   },
   {
    "duration": 74,
    "start_time": "2024-06-07T11:14:47.495Z"
   },
   {
    "duration": 7,
    "start_time": "2024-06-07T11:14:47.572Z"
   },
   {
    "duration": 11,
    "start_time": "2024-06-07T11:14:47.582Z"
   },
   {
    "duration": 5,
    "start_time": "2024-06-07T11:14:47.624Z"
   },
   {
    "duration": 529,
    "start_time": "2024-06-07T11:14:47.634Z"
   },
   {
    "duration": 4,
    "start_time": "2024-06-07T11:14:48.167Z"
   },
   {
    "duration": 4,
    "start_time": "2024-06-07T11:14:48.175Z"
   },
   {
    "duration": 39,
    "start_time": "2024-06-07T11:14:48.183Z"
   },
   {
    "duration": 5,
    "start_time": "2024-06-07T11:14:48.225Z"
   },
   {
    "duration": 4,
    "start_time": "2024-06-07T11:14:48.233Z"
   },
   {
    "duration": 4,
    "start_time": "2024-06-07T11:14:48.245Z"
   },
   {
    "duration": 4,
    "start_time": "2024-06-07T11:14:48.252Z"
   },
   {
    "duration": 6,
    "start_time": "2024-06-07T11:15:47.483Z"
   },
   {
    "duration": 733,
    "start_time": "2024-06-07T11:15:47.494Z"
   },
   {
    "duration": 19,
    "start_time": "2024-06-07T11:15:48.230Z"
   },
   {
    "duration": 20,
    "start_time": "2024-06-07T11:15:48.254Z"
   },
   {
    "duration": 44,
    "start_time": "2024-06-07T11:15:48.282Z"
   },
   {
    "duration": 9,
    "start_time": "2024-06-07T11:15:48.329Z"
   },
   {
    "duration": 8,
    "start_time": "2024-06-07T11:15:48.341Z"
   },
   {
    "duration": 20,
    "start_time": "2024-06-07T11:15:48.353Z"
   },
   {
    "duration": 222,
    "start_time": "2024-06-07T11:15:48.376Z"
   },
   {
    "duration": 197,
    "start_time": "2024-06-07T11:15:48.600Z"
   },
   {
    "duration": 24,
    "start_time": "2024-06-07T11:15:48.800Z"
   },
   {
    "duration": 35,
    "start_time": "2024-06-07T11:15:48.827Z"
   },
   {
    "duration": 7,
    "start_time": "2024-06-07T11:15:48.866Z"
   },
   {
    "duration": 45,
    "start_time": "2024-06-07T11:15:48.880Z"
   },
   {
    "duration": 58,
    "start_time": "2024-06-07T11:15:48.928Z"
   },
   {
    "duration": 44,
    "start_time": "2024-06-07T11:15:48.990Z"
   },
   {
    "duration": 905,
    "start_time": "2024-06-07T11:15:49.041Z"
   },
   {
    "duration": 53,
    "start_time": "2024-06-07T11:15:49.949Z"
   },
   {
    "duration": 62,
    "start_time": "2024-06-07T11:15:50.023Z"
   },
   {
    "duration": 35,
    "start_time": "2024-06-07T11:15:50.088Z"
   },
   {
    "duration": 395,
    "start_time": "2024-06-07T11:15:50.128Z"
   },
   {
    "duration": 16,
    "start_time": "2024-06-07T11:15:50.526Z"
   },
   {
    "duration": 1210,
    "start_time": "2024-06-07T11:15:50.545Z"
   },
   {
    "duration": 70,
    "start_time": "2024-06-07T11:15:51.758Z"
   },
   {
    "duration": 14,
    "start_time": "2024-06-07T11:15:51.831Z"
   },
   {
    "duration": 29,
    "start_time": "2024-06-07T11:15:51.848Z"
   },
   {
    "duration": 145,
    "start_time": "2024-06-07T11:15:51.880Z"
   },
   {
    "duration": 5,
    "start_time": "2024-06-07T11:15:52.027Z"
   },
   {
    "duration": 0,
    "start_time": "2024-06-07T14:31:51.213Z"
   },
   {
    "duration": 0,
    "start_time": "2024-06-07T14:31:51.215Z"
   },
   {
    "duration": 0,
    "start_time": "2024-06-07T14:31:51.218Z"
   },
   {
    "duration": 0,
    "start_time": "2024-06-07T14:31:51.221Z"
   },
   {
    "duration": 0,
    "start_time": "2024-06-07T14:31:51.223Z"
   },
   {
    "duration": 0,
    "start_time": "2024-06-07T14:31:51.226Z"
   },
   {
    "duration": 0,
    "start_time": "2024-06-07T14:31:51.229Z"
   },
   {
    "duration": 0,
    "start_time": "2024-06-07T14:31:51.231Z"
   },
   {
    "duration": 0,
    "start_time": "2024-06-07T14:31:51.234Z"
   },
   {
    "duration": 1,
    "start_time": "2024-06-07T14:31:51.236Z"
   },
   {
    "duration": 0,
    "start_time": "2024-06-07T14:31:51.291Z"
   },
   {
    "duration": 0,
    "start_time": "2024-06-07T14:31:51.293Z"
   },
   {
    "duration": 0,
    "start_time": "2024-06-07T14:31:51.296Z"
   },
   {
    "duration": 0,
    "start_time": "2024-06-07T14:31:51.298Z"
   },
   {
    "duration": 0,
    "start_time": "2024-06-07T14:31:51.300Z"
   },
   {
    "duration": 0,
    "start_time": "2024-06-07T14:31:51.302Z"
   },
   {
    "duration": 0,
    "start_time": "2024-06-07T14:31:51.304Z"
   },
   {
    "duration": 0,
    "start_time": "2024-06-07T14:31:51.306Z"
   },
   {
    "duration": 0,
    "start_time": "2024-06-07T14:31:51.309Z"
   },
   {
    "duration": 0,
    "start_time": "2024-06-07T14:31:51.311Z"
   },
   {
    "duration": 0,
    "start_time": "2024-06-07T14:31:51.313Z"
   },
   {
    "duration": 0,
    "start_time": "2024-06-07T14:31:51.315Z"
   },
   {
    "duration": 0,
    "start_time": "2024-06-07T14:31:51.317Z"
   },
   {
    "duration": 0,
    "start_time": "2024-06-07T14:31:51.319Z"
   },
   {
    "duration": 0,
    "start_time": "2024-06-07T14:31:51.321Z"
   },
   {
    "duration": 0,
    "start_time": "2024-06-07T14:31:51.323Z"
   },
   {
    "duration": 414,
    "start_time": "2024-06-07T14:31:51.394Z"
   },
   {
    "duration": 0,
    "start_time": "2024-06-07T14:31:51.811Z"
   },
   {
    "duration": 0,
    "start_time": "2024-06-07T14:31:51.812Z"
   },
   {
    "duration": 0,
    "start_time": "2024-06-07T14:31:51.816Z"
   },
   {
    "duration": 0,
    "start_time": "2024-06-07T14:31:51.818Z"
   },
   {
    "duration": 0,
    "start_time": "2024-06-07T14:31:51.820Z"
   },
   {
    "duration": 0,
    "start_time": "2024-06-07T14:31:51.822Z"
   },
   {
    "duration": 0,
    "start_time": "2024-06-07T14:31:51.824Z"
   },
   {
    "duration": 0,
    "start_time": "2024-06-07T14:31:51.827Z"
   },
   {
    "duration": 0,
    "start_time": "2024-06-07T14:31:51.829Z"
   },
   {
    "duration": 0,
    "start_time": "2024-06-07T14:31:51.831Z"
   },
   {
    "duration": 0,
    "start_time": "2024-06-07T14:31:51.834Z"
   },
   {
    "duration": 0,
    "start_time": "2024-06-07T14:31:51.836Z"
   },
   {
    "duration": 0,
    "start_time": "2024-06-07T14:31:51.838Z"
   },
   {
    "duration": 0,
    "start_time": "2024-06-07T14:31:51.841Z"
   },
   {
    "duration": 0,
    "start_time": "2024-06-07T14:31:51.892Z"
   },
   {
    "duration": 5333,
    "start_time": "2024-06-07T15:15:59.978Z"
   },
   {
    "duration": 711,
    "start_time": "2024-06-07T15:16:05.315Z"
   },
   {
    "duration": 26,
    "start_time": "2024-06-07T15:16:06.029Z"
   },
   {
    "duration": 17,
    "start_time": "2024-06-07T15:16:06.058Z"
   },
   {
    "duration": 14,
    "start_time": "2024-06-07T15:16:06.090Z"
   },
   {
    "duration": 8,
    "start_time": "2024-06-07T15:16:06.107Z"
   },
   {
    "duration": 9,
    "start_time": "2024-06-07T15:16:06.118Z"
   },
   {
    "duration": 60,
    "start_time": "2024-06-07T15:16:06.130Z"
   },
   {
    "duration": 189,
    "start_time": "2024-06-07T15:16:06.194Z"
   },
   {
    "duration": 191,
    "start_time": "2024-06-07T15:16:06.391Z"
   },
   {
    "duration": 8,
    "start_time": "2024-06-07T15:16:06.590Z"
   },
   {
    "duration": 35,
    "start_time": "2024-06-07T15:16:06.602Z"
   },
   {
    "duration": 6,
    "start_time": "2024-06-07T15:16:06.643Z"
   },
   {
    "duration": 38,
    "start_time": "2024-06-07T15:16:06.657Z"
   },
   {
    "duration": 46,
    "start_time": "2024-06-07T15:16:06.698Z"
   },
   {
    "duration": 50,
    "start_time": "2024-06-07T15:16:06.747Z"
   },
   {
    "duration": 862,
    "start_time": "2024-06-07T15:16:06.799Z"
   },
   {
    "duration": 64,
    "start_time": "2024-06-07T15:16:07.664Z"
   },
   {
    "duration": 6,
    "start_time": "2024-06-07T15:16:07.731Z"
   },
   {
    "duration": 0,
    "start_time": "2024-06-07T15:16:07.740Z"
   },
   {
    "duration": 0,
    "start_time": "2024-06-07T15:16:07.743Z"
   },
   {
    "duration": 0,
    "start_time": "2024-06-07T15:16:07.745Z"
   },
   {
    "duration": 0,
    "start_time": "2024-06-07T15:16:07.748Z"
   },
   {
    "duration": 0,
    "start_time": "2024-06-07T15:16:07.751Z"
   },
   {
    "duration": 0,
    "start_time": "2024-06-07T15:16:07.754Z"
   },
   {
    "duration": 0,
    "start_time": "2024-06-07T15:16:07.791Z"
   },
   {
    "duration": 0,
    "start_time": "2024-06-07T15:16:07.792Z"
   },
   {
    "duration": 0,
    "start_time": "2024-06-07T15:16:07.796Z"
   },
   {
    "duration": 0,
    "start_time": "2024-06-07T15:16:07.798Z"
   },
   {
    "duration": 0,
    "start_time": "2024-06-07T15:16:07.800Z"
   },
   {
    "duration": 0,
    "start_time": "2024-06-07T15:16:07.803Z"
   },
   {
    "duration": 0,
    "start_time": "2024-06-07T15:16:07.806Z"
   },
   {
    "duration": 0,
    "start_time": "2024-06-07T15:16:07.808Z"
   },
   {
    "duration": 1,
    "start_time": "2024-06-07T15:16:07.811Z"
   },
   {
    "duration": 0,
    "start_time": "2024-06-07T15:16:07.815Z"
   },
   {
    "duration": 0,
    "start_time": "2024-06-07T15:16:07.818Z"
   },
   {
    "duration": 0,
    "start_time": "2024-06-07T15:16:07.821Z"
   },
   {
    "duration": 0,
    "start_time": "2024-06-07T15:16:07.824Z"
   },
   {
    "duration": 0,
    "start_time": "2024-06-07T15:16:07.826Z"
   },
   {
    "duration": 0,
    "start_time": "2024-06-07T15:16:07.829Z"
   },
   {
    "duration": 0,
    "start_time": "2024-06-07T15:16:07.890Z"
   },
   {
    "duration": 0,
    "start_time": "2024-06-07T15:16:07.893Z"
   },
   {
    "duration": 659,
    "start_time": "2024-06-07T15:16:22.280Z"
   },
   {
    "duration": 150,
    "start_time": "2024-06-07T15:16:42.228Z"
   },
   {
    "duration": 56,
    "start_time": "2024-06-07T15:16:55.191Z"
   },
   {
    "duration": 15,
    "start_time": "2024-06-07T15:16:57.811Z"
   },
   {
    "duration": 414,
    "start_time": "2024-06-07T15:17:04.584Z"
   },
   {
    "duration": 91,
    "start_time": "2024-06-07T15:17:05.002Z"
   },
   {
    "duration": 1112,
    "start_time": "2024-06-07T15:17:05.095Z"
   },
   {
    "duration": 56,
    "start_time": "2024-06-07T15:17:06.210Z"
   },
   {
    "duration": 30,
    "start_time": "2024-06-07T15:17:06.270Z"
   },
   {
    "duration": 29,
    "start_time": "2024-06-07T15:17:06.303Z"
   },
   {
    "duration": 155,
    "start_time": "2024-06-07T15:17:06.335Z"
   },
   {
    "duration": 5,
    "start_time": "2024-06-07T15:17:06.492Z"
   },
   {
    "duration": 1882,
    "start_time": "2024-06-07T15:17:06.499Z"
   },
   {
    "duration": 15,
    "start_time": "2024-06-07T15:17:08.384Z"
   },
   {
    "duration": 111,
    "start_time": "2024-06-07T15:17:08.402Z"
   },
   {
    "duration": 6,
    "start_time": "2024-06-07T15:17:08.516Z"
   },
   {
    "duration": 11,
    "start_time": "2024-06-07T15:17:08.526Z"
   },
   {
    "duration": 5,
    "start_time": "2024-06-07T15:17:08.542Z"
   },
   {
    "duration": 547,
    "start_time": "2024-06-07T15:17:08.550Z"
   },
   {
    "duration": 4,
    "start_time": "2024-06-07T15:17:09.100Z"
   },
   {
    "duration": 4,
    "start_time": "2024-06-07T15:17:09.107Z"
   },
   {
    "duration": 4,
    "start_time": "2024-06-07T15:17:09.115Z"
   },
   {
    "duration": 4,
    "start_time": "2024-06-07T15:17:09.122Z"
   },
   {
    "duration": 3,
    "start_time": "2024-06-07T15:17:09.130Z"
   },
   {
    "duration": 55,
    "start_time": "2024-06-07T15:17:09.136Z"
   },
   {
    "duration": 4,
    "start_time": "2024-06-07T15:17:09.194Z"
   },
   {
    "duration": 47,
    "start_time": "2024-06-07T15:18:43.829Z"
   },
   {
    "duration": 271,
    "start_time": "2024-06-07T15:18:49.493Z"
   },
   {
    "duration": 4,
    "start_time": "2024-06-07T15:18:51.310Z"
   },
   {
    "duration": 3398,
    "start_time": "2024-06-07T15:18:56.616Z"
   },
   {
    "duration": 12,
    "start_time": "2024-06-07T15:19:00.017Z"
   },
   {
    "duration": 167,
    "start_time": "2024-06-07T15:19:02.324Z"
   },
   {
    "duration": 7,
    "start_time": "2024-06-07T15:19:03.235Z"
   },
   {
    "duration": 11,
    "start_time": "2024-06-07T15:19:04.326Z"
   },
   {
    "duration": 5,
    "start_time": "2024-06-07T15:19:05.691Z"
   },
   {
    "duration": 521,
    "start_time": "2024-06-07T15:19:05.990Z"
   },
   {
    "duration": 6,
    "start_time": "2024-06-07T18:05:30.041Z"
   },
   {
    "duration": 604,
    "start_time": "2024-06-07T18:05:30.051Z"
   },
   {
    "duration": 17,
    "start_time": "2024-06-07T18:05:30.658Z"
   },
   {
    "duration": 18,
    "start_time": "2024-06-07T18:05:30.679Z"
   },
   {
    "duration": 15,
    "start_time": "2024-06-07T18:05:30.702Z"
   },
   {
    "duration": 8,
    "start_time": "2024-06-07T18:05:30.720Z"
   },
   {
    "duration": 7,
    "start_time": "2024-06-07T18:05:30.731Z"
   },
   {
    "duration": 61,
    "start_time": "2024-06-07T18:05:30.742Z"
   },
   {
    "duration": 183,
    "start_time": "2024-06-07T18:05:30.807Z"
   },
   {
    "duration": 189,
    "start_time": "2024-06-07T18:05:30.994Z"
   },
   {
    "duration": 8,
    "start_time": "2024-06-07T18:05:31.190Z"
   },
   {
    "duration": 35,
    "start_time": "2024-06-07T18:05:31.202Z"
   },
   {
    "duration": 8,
    "start_time": "2024-06-07T18:05:31.240Z"
   },
   {
    "duration": 8,
    "start_time": "2024-06-07T18:05:31.290Z"
   },
   {
    "duration": 46,
    "start_time": "2024-06-07T18:05:31.301Z"
   },
   {
    "duration": 50,
    "start_time": "2024-06-07T18:05:31.349Z"
   },
   {
    "duration": 1006,
    "start_time": "2024-06-07T18:05:31.402Z"
   },
   {
    "duration": 54,
    "start_time": "2024-06-07T18:05:32.412Z"
   },
   {
    "duration": 78,
    "start_time": "2024-06-07T18:05:32.469Z"
   },
   {
    "duration": 15,
    "start_time": "2024-06-07T18:05:32.550Z"
   },
   {
    "duration": 317,
    "start_time": "2024-06-07T18:05:32.592Z"
   },
   {
    "duration": 90,
    "start_time": "2024-06-07T18:05:32.912Z"
   },
   {
    "duration": 1177,
    "start_time": "2024-06-07T18:05:33.005Z"
   },
   {
    "duration": 62,
    "start_time": "2024-06-07T18:05:34.191Z"
   },
   {
    "duration": 36,
    "start_time": "2024-06-07T18:05:34.256Z"
   },
   {
    "duration": 45,
    "start_time": "2024-06-07T18:05:34.298Z"
   },
   {
    "duration": 301,
    "start_time": "2024-06-07T18:05:34.345Z"
   },
   {
    "duration": 54,
    "start_time": "2024-06-07T18:05:34.649Z"
   },
   {
    "duration": 3379,
    "start_time": "2024-06-07T18:05:34.713Z"
   },
   {
    "duration": 11,
    "start_time": "2024-06-07T18:05:38.095Z"
   },
   {
    "duration": 183,
    "start_time": "2024-06-07T18:05:38.109Z"
   },
   {
    "duration": 8,
    "start_time": "2024-06-07T18:05:38.295Z"
   },
   {
    "duration": 13,
    "start_time": "2024-06-07T18:05:38.306Z"
   },
   {
    "duration": 5,
    "start_time": "2024-06-07T18:05:38.322Z"
   },
   {
    "duration": 543,
    "start_time": "2024-06-07T18:05:38.331Z"
   },
   {
    "duration": 15,
    "start_time": "2024-06-07T18:05:38.876Z"
   },
   {
    "duration": 4,
    "start_time": "2024-06-07T18:05:38.893Z"
   },
   {
    "duration": 3,
    "start_time": "2024-06-07T18:05:38.901Z"
   },
   {
    "duration": 5,
    "start_time": "2024-06-07T18:05:38.907Z"
   },
   {
    "duration": 4,
    "start_time": "2024-06-07T18:05:38.916Z"
   },
   {
    "duration": 3,
    "start_time": "2024-06-07T18:05:38.929Z"
   },
   {
    "duration": 52,
    "start_time": "2024-06-07T18:05:38.939Z"
   },
   {
    "duration": 740,
    "start_time": "2024-06-07T18:10:03.136Z"
   },
   {
    "duration": 59,
    "start_time": "2024-06-07T18:10:06.535Z"
   },
   {
    "duration": 910,
    "start_time": "2024-06-07T18:11:43.684Z"
   },
   {
    "duration": 75,
    "start_time": "2024-06-07T18:11:51.544Z"
   },
   {
    "duration": 14,
    "start_time": "2024-06-07T18:12:38.295Z"
   },
   {
    "duration": 52,
    "start_time": "2024-06-07T18:13:03.641Z"
   },
   {
    "duration": 14,
    "start_time": "2024-06-07T18:13:06.051Z"
   },
   {
    "duration": 52,
    "start_time": "2024-06-07T18:14:21.656Z"
   },
   {
    "duration": 14,
    "start_time": "2024-06-07T18:14:26.175Z"
   },
   {
    "duration": 192,
    "start_time": "2024-06-07T18:15:27.228Z"
   },
   {
    "duration": 7,
    "start_time": "2024-06-07T18:15:30.117Z"
   },
   {
    "duration": 11,
    "start_time": "2024-06-07T18:15:30.945Z"
   },
   {
    "duration": 198,
    "start_time": "2024-06-07T18:16:02.876Z"
   },
   {
    "duration": 6,
    "start_time": "2024-06-07T18:16:07.983Z"
   },
   {
    "duration": 11,
    "start_time": "2024-06-07T18:16:08.697Z"
   },
   {
    "duration": 201,
    "start_time": "2024-06-07T18:16:31.215Z"
   },
   {
    "duration": 7,
    "start_time": "2024-06-07T18:16:31.863Z"
   },
   {
    "duration": 20,
    "start_time": "2024-06-07T18:16:32.508Z"
   },
   {
    "duration": 158,
    "start_time": "2024-06-07T18:16:47.190Z"
   },
   {
    "duration": 7,
    "start_time": "2024-06-07T18:16:47.940Z"
   },
   {
    "duration": 10,
    "start_time": "2024-06-07T18:16:48.859Z"
   },
   {
    "duration": 291,
    "start_time": "2024-06-07T18:17:51.902Z"
   },
   {
    "duration": 163,
    "start_time": "2024-06-07T18:18:03.535Z"
   },
   {
    "duration": 286,
    "start_time": "2024-06-07T18:18:11.040Z"
   },
   {
    "duration": 286,
    "start_time": "2024-06-07T18:18:43.144Z"
   },
   {
    "duration": 480,
    "start_time": "2024-06-07T18:19:23.110Z"
   },
   {
    "duration": 60,
    "start_time": "2024-06-07T18:19:43.320Z"
   },
   {
    "duration": 15,
    "start_time": "2024-06-07T18:19:45.882Z"
   },
   {
    "duration": 377,
    "start_time": "2024-06-07T18:20:01.688Z"
   },
   {
    "duration": 14,
    "start_time": "2024-06-07T18:20:04.111Z"
   },
   {
    "duration": 7,
    "start_time": "2024-06-07T18:20:17.010Z"
   },
   {
    "duration": 941,
    "start_time": "2024-06-07T18:20:17.022Z"
   },
   {
    "duration": 21,
    "start_time": "2024-06-07T18:20:17.967Z"
   },
   {
    "duration": 22,
    "start_time": "2024-06-07T18:20:17.991Z"
   },
   {
    "duration": 18,
    "start_time": "2024-06-07T18:20:18.019Z"
   },
   {
    "duration": 10,
    "start_time": "2024-06-07T18:20:18.040Z"
   },
   {
    "duration": 42,
    "start_time": "2024-06-07T18:20:18.054Z"
   },
   {
    "duration": 20,
    "start_time": "2024-06-07T18:20:18.099Z"
   },
   {
    "duration": 201,
    "start_time": "2024-06-07T18:20:18.123Z"
   },
   {
    "duration": 193,
    "start_time": "2024-06-07T18:20:18.327Z"
   },
   {
    "duration": 8,
    "start_time": "2024-06-07T18:20:18.523Z"
   },
   {
    "duration": 59,
    "start_time": "2024-06-07T18:20:18.534Z"
   },
   {
    "duration": 7,
    "start_time": "2024-06-07T18:20:18.597Z"
   },
   {
    "duration": 9,
    "start_time": "2024-06-07T18:20:18.613Z"
   },
   {
    "duration": 85,
    "start_time": "2024-06-07T18:20:18.625Z"
   },
   {
    "duration": 28,
    "start_time": "2024-06-07T18:20:18.715Z"
   },
   {
    "duration": 1074,
    "start_time": "2024-06-07T18:20:18.791Z"
   },
   {
    "duration": 77,
    "start_time": "2024-06-07T18:20:19.868Z"
   },
   {
    "duration": 69,
    "start_time": "2024-06-07T18:20:19.950Z"
   },
   {
    "duration": 14,
    "start_time": "2024-06-07T18:20:20.023Z"
   },
   {
    "duration": 352,
    "start_time": "2024-06-07T18:20:20.040Z"
   },
   {
    "duration": 14,
    "start_time": "2024-06-07T18:20:20.395Z"
   },
   {
    "duration": 1172,
    "start_time": "2024-06-07T18:20:20.413Z"
   },
   {
    "duration": 54,
    "start_time": "2024-06-07T18:20:21.591Z"
   },
   {
    "duration": 13,
    "start_time": "2024-06-07T18:20:21.648Z"
   },
   {
    "duration": 68,
    "start_time": "2024-06-07T18:20:21.664Z"
   },
   {
    "duration": 455,
    "start_time": "2024-06-07T18:20:21.736Z"
   },
   {
    "duration": 4,
    "start_time": "2024-06-07T18:20:22.195Z"
   },
   {
    "duration": 3505,
    "start_time": "2024-06-07T18:20:22.203Z"
   },
   {
    "duration": 12,
    "start_time": "2024-06-07T18:20:25.711Z"
   },
   {
    "duration": 188,
    "start_time": "2024-06-07T18:20:25.726Z"
   },
   {
    "duration": 6,
    "start_time": "2024-06-07T18:20:25.917Z"
   },
   {
    "duration": 11,
    "start_time": "2024-06-07T18:20:25.926Z"
   },
   {
    "duration": 5,
    "start_time": "2024-06-07T18:20:25.940Z"
   },
   {
    "duration": 556,
    "start_time": "2024-06-07T18:20:25.948Z"
   },
   {
    "duration": 4,
    "start_time": "2024-06-07T18:20:26.507Z"
   },
   {
    "duration": 3,
    "start_time": "2024-06-07T18:20:26.514Z"
   },
   {
    "duration": 4,
    "start_time": "2024-06-07T18:20:26.520Z"
   },
   {
    "duration": 4,
    "start_time": "2024-06-07T18:20:26.528Z"
   },
   {
    "duration": 3,
    "start_time": "2024-06-07T18:20:26.536Z"
   },
   {
    "duration": 3,
    "start_time": "2024-06-07T18:20:26.591Z"
   },
   {
    "duration": 4,
    "start_time": "2024-06-07T18:20:26.597Z"
   },
   {
    "duration": 38,
    "start_time": "2024-06-07T18:21:25.319Z"
   },
   {
    "duration": 929,
    "start_time": "2024-06-07T18:21:33.166Z"
   },
   {
    "duration": 3,
    "start_time": "2024-06-07T18:21:41.937Z"
   },
   {
    "duration": 3324,
    "start_time": "2024-06-07T18:21:41.945Z"
   },
   {
    "duration": 23,
    "start_time": "2024-06-07T18:21:45.273Z"
   },
   {
    "duration": 168,
    "start_time": "2024-06-07T18:21:45.299Z"
   },
   {
    "duration": 6,
    "start_time": "2024-06-07T18:21:45.471Z"
   },
   {
    "duration": 10,
    "start_time": "2024-06-07T18:21:45.492Z"
   },
   {
    "duration": 4,
    "start_time": "2024-06-07T18:21:45.506Z"
   },
   {
    "duration": 540,
    "start_time": "2024-06-07T18:21:45.514Z"
   },
   {
    "duration": 4,
    "start_time": "2024-06-07T18:21:46.057Z"
   },
   {
    "duration": 4,
    "start_time": "2024-06-07T18:21:46.064Z"
   },
   {
    "duration": 20,
    "start_time": "2024-06-07T18:21:46.073Z"
   },
   {
    "duration": 4,
    "start_time": "2024-06-07T18:21:46.096Z"
   },
   {
    "duration": 4,
    "start_time": "2024-06-07T18:21:46.103Z"
   },
   {
    "duration": 4,
    "start_time": "2024-06-07T18:21:46.110Z"
   },
   {
    "duration": 4,
    "start_time": "2024-06-07T18:21:46.117Z"
   },
   {
    "duration": 56,
    "start_time": "2024-06-07T18:22:28.078Z"
   },
   {
    "duration": 14,
    "start_time": "2024-06-07T18:22:29.888Z"
   },
   {
    "duration": 9,
    "start_time": "2024-06-07T18:22:47.892Z"
   },
   {
    "duration": 209,
    "start_time": "2024-06-07T18:22:47.904Z"
   },
   {
    "duration": 16,
    "start_time": "2024-06-07T18:22:48.117Z"
   },
   {
    "duration": 1023,
    "start_time": "2024-06-07T18:22:48.192Z"
   },
   {
    "duration": 78,
    "start_time": "2024-06-07T18:22:49.218Z"
   },
   {
    "duration": 58,
    "start_time": "2024-06-07T18:22:49.299Z"
   },
   {
    "duration": 33,
    "start_time": "2024-06-07T18:22:49.361Z"
   },
   {
    "duration": 407,
    "start_time": "2024-06-07T18:22:49.398Z"
   },
   {
    "duration": 15,
    "start_time": "2024-06-07T18:22:49.808Z"
   },
   {
    "duration": 1151,
    "start_time": "2024-06-07T18:22:49.830Z"
   },
   {
    "duration": 56,
    "start_time": "2024-06-07T18:22:50.991Z"
   },
   {
    "duration": 15,
    "start_time": "2024-06-07T18:22:51.051Z"
   },
   {
    "duration": 48,
    "start_time": "2024-06-07T18:22:51.091Z"
   },
   {
    "duration": 899,
    "start_time": "2024-06-07T18:22:51.142Z"
   },
   {
    "duration": 6,
    "start_time": "2024-06-07T18:22:52.090Z"
   },
   {
    "duration": 3435,
    "start_time": "2024-06-07T18:22:52.099Z"
   },
   {
    "duration": 10,
    "start_time": "2024-06-07T18:22:55.537Z"
   },
   {
    "duration": 177,
    "start_time": "2024-06-07T18:22:55.551Z"
   },
   {
    "duration": 8,
    "start_time": "2024-06-07T18:22:55.730Z"
   },
   {
    "duration": 11,
    "start_time": "2024-06-07T18:22:55.743Z"
   },
   {
    "duration": 4,
    "start_time": "2024-06-07T18:22:55.757Z"
   },
   {
    "duration": 513,
    "start_time": "2024-06-07T18:22:55.792Z"
   },
   {
    "duration": 4,
    "start_time": "2024-06-07T18:22:56.307Z"
   },
   {
    "duration": 3,
    "start_time": "2024-06-07T18:22:56.315Z"
   },
   {
    "duration": 4,
    "start_time": "2024-06-07T18:22:56.323Z"
   },
   {
    "duration": 4,
    "start_time": "2024-06-07T18:22:56.330Z"
   },
   {
    "duration": 4,
    "start_time": "2024-06-07T18:22:56.337Z"
   },
   {
    "duration": 4,
    "start_time": "2024-06-07T18:22:56.398Z"
   },
   {
    "duration": 4,
    "start_time": "2024-06-07T18:22:56.405Z"
   },
   {
    "duration": 4,
    "start_time": "2024-06-07T18:23:26.498Z"
   },
   {
    "duration": 3371,
    "start_time": "2024-06-07T18:23:26.958Z"
   },
   {
    "duration": 11,
    "start_time": "2024-06-07T18:23:30.332Z"
   },
   {
    "duration": 4,
    "start_time": "2024-06-07T18:24:00.056Z"
   },
   {
    "duration": 3429,
    "start_time": "2024-06-07T18:24:01.369Z"
   },
   {
    "duration": 14,
    "start_time": "2024-06-07T18:24:04.803Z"
   },
   {
    "duration": 5,
    "start_time": "2024-06-07T18:24:10.605Z"
   },
   {
    "duration": 3339,
    "start_time": "2024-06-07T18:24:11.413Z"
   },
   {
    "duration": 10,
    "start_time": "2024-06-07T18:24:14.755Z"
   },
   {
    "duration": 5,
    "start_time": "2024-06-07T18:24:22.559Z"
   },
   {
    "duration": 3372,
    "start_time": "2024-06-07T18:24:25.280Z"
   },
   {
    "duration": 11,
    "start_time": "2024-06-07T18:24:28.655Z"
   },
   {
    "duration": 4,
    "start_time": "2024-06-07T18:24:37.648Z"
   },
   {
    "duration": 4195,
    "start_time": "2024-06-07T18:24:40.700Z"
   },
   {
    "duration": 12,
    "start_time": "2024-06-07T18:24:44.898Z"
   },
   {
    "duration": 5,
    "start_time": "2024-06-07T18:24:52.163Z"
   },
   {
    "duration": 2962,
    "start_time": "2024-06-07T18:24:52.867Z"
   },
   {
    "duration": 12,
    "start_time": "2024-06-07T18:24:55.833Z"
   },
   {
    "duration": 5,
    "start_time": "2024-06-07T18:25:04.691Z"
   },
   {
    "duration": 2499,
    "start_time": "2024-06-07T18:25:05.046Z"
   },
   {
    "duration": 10,
    "start_time": "2024-06-07T18:25:07.549Z"
   },
   {
    "duration": 4,
    "start_time": "2024-06-07T18:25:14.479Z"
   },
   {
    "duration": 3581,
    "start_time": "2024-06-07T18:25:14.777Z"
   },
   {
    "duration": 10,
    "start_time": "2024-06-07T18:25:18.362Z"
   },
   {
    "duration": 5,
    "start_time": "2024-06-07T18:25:23.722Z"
   },
   {
    "duration": 3355,
    "start_time": "2024-06-07T18:25:23.945Z"
   },
   {
    "duration": 12,
    "start_time": "2024-06-07T18:25:27.304Z"
   },
   {
    "duration": 43437,
    "start_time": "2024-06-07T18:27:55.893Z"
   },
   {
    "duration": 56354,
    "start_time": "2024-06-07T18:28:55.052Z"
   },
   {
    "duration": 2504946,
    "start_time": "2024-06-07T18:30:06.619Z"
   },
   {
    "duration": 5,
    "start_time": "2024-06-07T19:14:50.427Z"
   },
   {
    "duration": 2056,
    "start_time": "2024-06-07T19:15:26.349Z"
   },
   {
    "duration": 11,
    "start_time": "2024-06-07T19:15:28.408Z"
   },
   {
    "duration": 4,
    "start_time": "2024-06-07T20:05:39.998Z"
   },
   {
    "duration": 2028,
    "start_time": "2024-06-07T20:05:44.281Z"
   },
   {
    "duration": 12,
    "start_time": "2024-06-07T20:05:46.312Z"
   },
   {
    "duration": 1749,
    "start_time": "2024-06-07T20:06:21.274Z"
   },
   {
    "duration": 698,
    "start_time": "2024-06-07T20:06:23.026Z"
   },
   {
    "duration": 24,
    "start_time": "2024-06-07T20:06:23.727Z"
   },
   {
    "duration": 35,
    "start_time": "2024-06-07T20:06:23.756Z"
   },
   {
    "duration": 16,
    "start_time": "2024-06-07T20:06:23.795Z"
   },
   {
    "duration": 11,
    "start_time": "2024-06-07T20:06:23.815Z"
   },
   {
    "duration": 11,
    "start_time": "2024-06-07T20:06:23.829Z"
   },
   {
    "duration": 61,
    "start_time": "2024-06-07T20:06:23.843Z"
   },
   {
    "duration": 198,
    "start_time": "2024-06-07T20:06:23.907Z"
   },
   {
    "duration": 207,
    "start_time": "2024-06-07T20:06:24.112Z"
   },
   {
    "duration": 9,
    "start_time": "2024-06-07T20:06:24.322Z"
   },
   {
    "duration": 72,
    "start_time": "2024-06-07T20:06:24.335Z"
   },
   {
    "duration": 8,
    "start_time": "2024-06-07T20:06:24.411Z"
   },
   {
    "duration": 10,
    "start_time": "2024-06-07T20:06:24.423Z"
   },
   {
    "duration": 223,
    "start_time": "2024-06-07T20:06:24.436Z"
   },
   {
    "duration": 35,
    "start_time": "2024-06-07T20:06:24.662Z"
   },
   {
    "duration": 1089,
    "start_time": "2024-06-07T20:06:24.705Z"
   },
   {
    "duration": 70,
    "start_time": "2024-06-07T20:06:25.798Z"
   },
   {
    "duration": 73,
    "start_time": "2024-06-07T20:06:25.873Z"
   },
   {
    "duration": 47,
    "start_time": "2024-06-07T20:06:25.949Z"
   },
   {
    "duration": 527,
    "start_time": "2024-06-07T20:06:26.003Z"
   },
   {
    "duration": 60,
    "start_time": "2024-06-07T20:06:26.533Z"
   },
   {
    "duration": 1205,
    "start_time": "2024-06-07T20:06:26.597Z"
   },
   {
    "duration": 65,
    "start_time": "2024-06-07T20:06:27.808Z"
   },
   {
    "duration": 27,
    "start_time": "2024-06-07T20:06:27.876Z"
   },
   {
    "duration": 53,
    "start_time": "2024-06-07T20:06:27.906Z"
   },
   {
    "duration": 887,
    "start_time": "2024-06-07T20:06:27.962Z"
   },
   {
    "duration": 37,
    "start_time": "2024-06-07T20:06:28.857Z"
   },
   {
    "duration": 5,
    "start_time": "2024-06-07T20:06:28.897Z"
   },
   {
    "duration": 2180,
    "start_time": "2024-06-07T20:06:28.905Z"
   },
   {
    "duration": 16,
    "start_time": "2024-06-07T20:06:31.091Z"
   },
   {
    "duration": 194,
    "start_time": "2024-06-07T20:06:31.115Z"
   },
   {
    "duration": 7,
    "start_time": "2024-06-07T20:06:31.312Z"
   },
   {
    "duration": 13,
    "start_time": "2024-06-07T20:06:31.323Z"
   },
   {
    "duration": 6,
    "start_time": "2024-06-07T20:06:31.339Z"
   },
   {
    "duration": 559,
    "start_time": "2024-06-07T20:06:31.348Z"
   },
   {
    "duration": 5,
    "start_time": "2024-06-07T20:06:31.910Z"
   },
   {
    "duration": 4,
    "start_time": "2024-06-07T20:06:31.919Z"
   },
   {
    "duration": 4,
    "start_time": "2024-06-07T20:06:31.926Z"
   },
   {
    "duration": 5,
    "start_time": "2024-06-07T20:06:31.934Z"
   },
   {
    "duration": 3,
    "start_time": "2024-06-07T20:06:31.945Z"
   },
   {
    "duration": 39,
    "start_time": "2024-06-07T20:06:31.952Z"
   },
   {
    "duration": 4,
    "start_time": "2024-06-07T20:06:31.995Z"
   },
   {
    "duration": 5,
    "start_time": "2024-06-07T20:06:56.770Z"
   },
   {
    "duration": 2441,
    "start_time": "2024-06-07T20:06:59.404Z"
   },
   {
    "duration": 12,
    "start_time": "2024-06-07T20:07:01.849Z"
   },
   {
    "duration": 4,
    "start_time": "2024-06-07T20:07:08.716Z"
   },
   {
    "duration": 4407,
    "start_time": "2024-06-07T20:07:12.911Z"
   },
   {
    "duration": 14,
    "start_time": "2024-06-07T20:07:17.321Z"
   },
   {
    "duration": 4,
    "start_time": "2024-06-07T20:08:39.897Z"
   },
   {
    "duration": 3718,
    "start_time": "2024-06-07T20:08:43.107Z"
   },
   {
    "duration": 19,
    "start_time": "2024-06-07T20:08:46.828Z"
   },
   {
    "duration": 1772,
    "start_time": "2024-06-07T20:09:44.109Z"
   },
   {
    "duration": 684,
    "start_time": "2024-06-07T20:09:45.885Z"
   },
   {
    "duration": 24,
    "start_time": "2024-06-07T20:09:46.571Z"
   },
   {
    "duration": 22,
    "start_time": "2024-06-07T20:09:46.598Z"
   },
   {
    "duration": 18,
    "start_time": "2024-06-07T20:09:46.625Z"
   },
   {
    "duration": 9,
    "start_time": "2024-06-07T20:09:46.646Z"
   },
   {
    "duration": 38,
    "start_time": "2024-06-07T20:09:46.658Z"
   },
   {
    "duration": 20,
    "start_time": "2024-06-07T20:09:46.699Z"
   },
   {
    "duration": 224,
    "start_time": "2024-06-07T20:09:46.723Z"
   },
   {
    "duration": 217,
    "start_time": "2024-06-07T20:09:46.950Z"
   },
   {
    "duration": 31,
    "start_time": "2024-06-07T20:09:47.171Z"
   },
   {
    "duration": 43,
    "start_time": "2024-06-07T20:09:47.206Z"
   },
   {
    "duration": 7,
    "start_time": "2024-06-07T20:09:47.260Z"
   },
   {
    "duration": 20,
    "start_time": "2024-06-07T20:09:47.273Z"
   },
   {
    "duration": 200,
    "start_time": "2024-06-07T20:09:47.296Z"
   },
   {
    "duration": 34,
    "start_time": "2024-06-07T20:09:47.499Z"
   },
   {
    "duration": 1155,
    "start_time": "2024-06-07T20:09:47.539Z"
   },
   {
    "duration": 70,
    "start_time": "2024-06-07T20:09:48.703Z"
   },
   {
    "duration": 67,
    "start_time": "2024-06-07T20:09:48.777Z"
   },
   {
    "duration": 14,
    "start_time": "2024-06-07T20:09:48.849Z"
   },
   {
    "duration": 465,
    "start_time": "2024-06-07T20:09:48.893Z"
   },
   {
    "duration": 35,
    "start_time": "2024-06-07T20:09:49.361Z"
   },
   {
    "duration": 1121,
    "start_time": "2024-06-07T20:09:49.400Z"
   },
   {
    "duration": 71,
    "start_time": "2024-06-07T20:09:50.527Z"
   },
   {
    "duration": 15,
    "start_time": "2024-06-07T20:09:50.601Z"
   },
   {
    "duration": 73,
    "start_time": "2024-06-07T20:09:50.619Z"
   },
   {
    "duration": 1001,
    "start_time": "2024-06-07T20:09:50.694Z"
   },
   {
    "duration": 82,
    "start_time": "2024-06-07T20:09:51.707Z"
   },
   {
    "duration": 6,
    "start_time": "2024-06-07T20:09:51.793Z"
   },
   {
    "duration": 3785,
    "start_time": "2024-06-07T20:09:51.802Z"
   },
   {
    "duration": 13,
    "start_time": "2024-06-07T20:09:55.596Z"
   },
   {
    "duration": 193,
    "start_time": "2024-06-07T20:09:55.612Z"
   },
   {
    "duration": 7,
    "start_time": "2024-06-07T20:09:55.808Z"
   },
   {
    "duration": 13,
    "start_time": "2024-06-07T20:09:55.819Z"
   },
   {
    "duration": 5,
    "start_time": "2024-06-07T20:09:55.835Z"
   },
   {
    "duration": 600,
    "start_time": "2024-06-07T20:09:55.844Z"
   },
   {
    "duration": 6,
    "start_time": "2024-06-07T20:09:56.447Z"
   },
   {
    "duration": 12,
    "start_time": "2024-06-07T20:09:56.457Z"
   },
   {
    "duration": 5,
    "start_time": "2024-06-07T20:09:56.472Z"
   },
   {
    "duration": 6,
    "start_time": "2024-06-07T20:09:56.492Z"
   },
   {
    "duration": 4,
    "start_time": "2024-06-07T20:09:56.509Z"
   },
   {
    "duration": 4,
    "start_time": "2024-06-07T20:09:56.517Z"
   },
   {
    "duration": 3,
    "start_time": "2024-06-07T20:09:56.525Z"
   },
   {
    "duration": 724,
    "start_time": "2024-06-07T20:14:19.443Z"
   },
   {
    "duration": 68,
    "start_time": "2024-06-07T20:14:20.171Z"
   },
   {
    "duration": 51,
    "start_time": "2024-06-07T20:18:16.643Z"
   },
   {
    "duration": 12,
    "start_time": "2024-06-07T20:18:18.568Z"
   },
   {
    "duration": 1635,
    "start_time": "2024-06-07T20:18:56.984Z"
   },
   {
    "duration": 697,
    "start_time": "2024-06-07T20:18:58.622Z"
   },
   {
    "duration": 25,
    "start_time": "2024-06-07T20:18:59.322Z"
   },
   {
    "duration": 19,
    "start_time": "2024-06-07T20:18:59.350Z"
   },
   {
    "duration": 15,
    "start_time": "2024-06-07T20:18:59.393Z"
   },
   {
    "duration": 9,
    "start_time": "2024-06-07T20:18:59.412Z"
   },
   {
    "duration": 9,
    "start_time": "2024-06-07T20:18:59.424Z"
   },
   {
    "duration": 61,
    "start_time": "2024-06-07T20:18:59.436Z"
   },
   {
    "duration": 194,
    "start_time": "2024-06-07T20:18:59.500Z"
   },
   {
    "duration": 195,
    "start_time": "2024-06-07T20:18:59.698Z"
   },
   {
    "duration": 9,
    "start_time": "2024-06-07T20:18:59.896Z"
   },
   {
    "duration": 37,
    "start_time": "2024-06-07T20:18:59.908Z"
   },
   {
    "duration": 44,
    "start_time": "2024-06-07T20:18:59.948Z"
   },
   {
    "duration": 8,
    "start_time": "2024-06-07T20:18:59.999Z"
   },
   {
    "duration": 167,
    "start_time": "2024-06-07T20:19:00.010Z"
   },
   {
    "duration": 19,
    "start_time": "2024-06-07T20:19:00.180Z"
   },
   {
    "duration": 931,
    "start_time": "2024-06-07T20:19:00.202Z"
   },
   {
    "duration": 66,
    "start_time": "2024-06-07T20:19:01.136Z"
   },
   {
    "duration": 54,
    "start_time": "2024-06-07T20:19:01.205Z"
   },
   {
    "duration": 33,
    "start_time": "2024-06-07T20:19:01.262Z"
   },
   {
    "duration": 399,
    "start_time": "2024-06-07T20:19:01.298Z"
   },
   {
    "duration": 18,
    "start_time": "2024-06-07T20:19:01.700Z"
   },
   {
    "duration": 1169,
    "start_time": "2024-06-07T20:19:01.721Z"
   },
   {
    "duration": 64,
    "start_time": "2024-06-07T20:19:02.894Z"
   },
   {
    "duration": 30,
    "start_time": "2024-06-07T20:19:02.962Z"
   },
   {
    "duration": 52,
    "start_time": "2024-06-07T20:19:02.995Z"
   },
   {
    "duration": 942,
    "start_time": "2024-06-07T20:19:03.050Z"
   },
   {
    "duration": 8,
    "start_time": "2024-06-07T20:19:03.995Z"
   },
   {
    "duration": 5,
    "start_time": "2024-06-07T20:19:04.006Z"
   },
   {
    "duration": 3444,
    "start_time": "2024-06-07T20:19:04.015Z"
   },
   {
    "duration": 11,
    "start_time": "2024-06-07T20:19:07.461Z"
   },
   {
    "duration": 175,
    "start_time": "2024-06-07T20:19:07.476Z"
   },
   {
    "duration": 6,
    "start_time": "2024-06-07T20:19:07.654Z"
   },
   {
    "duration": 27,
    "start_time": "2024-06-07T20:19:07.663Z"
   },
   {
    "duration": 6,
    "start_time": "2024-06-07T20:19:07.693Z"
   },
   {
    "duration": 515,
    "start_time": "2024-06-07T20:19:07.702Z"
   },
   {
    "duration": 3,
    "start_time": "2024-06-07T20:19:08.220Z"
   },
   {
    "duration": 3,
    "start_time": "2024-06-07T20:19:08.227Z"
   },
   {
    "duration": 4,
    "start_time": "2024-06-07T20:19:08.232Z"
   },
   {
    "duration": 5,
    "start_time": "2024-06-07T20:19:08.238Z"
   },
   {
    "duration": 39,
    "start_time": "2024-06-07T20:19:08.251Z"
   },
   {
    "duration": 3,
    "start_time": "2024-06-07T20:19:08.294Z"
   },
   {
    "duration": 4,
    "start_time": "2024-06-07T20:19:08.300Z"
   },
   {
    "duration": 6,
    "start_time": "2024-06-07T21:43:58.229Z"
   },
   {
    "duration": 588,
    "start_time": "2024-06-07T21:43:58.239Z"
   },
   {
    "duration": 18,
    "start_time": "2024-06-07T21:43:58.830Z"
   },
   {
    "duration": 17,
    "start_time": "2024-06-07T21:43:58.851Z"
   },
   {
    "duration": 29,
    "start_time": "2024-06-07T21:43:58.872Z"
   },
   {
    "duration": 8,
    "start_time": "2024-06-07T21:43:58.907Z"
   },
   {
    "duration": 7,
    "start_time": "2024-06-07T21:43:58.918Z"
   },
   {
    "duration": 19,
    "start_time": "2024-06-07T21:43:58.928Z"
   },
   {
    "duration": 200,
    "start_time": "2024-06-07T21:43:58.950Z"
   },
   {
    "duration": 190,
    "start_time": "2024-06-07T21:43:59.155Z"
   },
   {
    "duration": 11,
    "start_time": "2024-06-07T21:43:59.348Z"
   },
   {
    "duration": 55,
    "start_time": "2024-06-07T21:43:59.362Z"
   },
   {
    "duration": 6,
    "start_time": "2024-06-07T21:43:59.421Z"
   },
   {
    "duration": 7,
    "start_time": "2024-06-07T21:43:59.434Z"
   },
   {
    "duration": 181,
    "start_time": "2024-06-07T21:43:59.444Z"
   },
   {
    "duration": 65,
    "start_time": "2024-06-07T21:43:59.628Z"
   },
   {
    "duration": 847,
    "start_time": "2024-06-07T21:43:59.695Z"
   },
   {
    "duration": 65,
    "start_time": "2024-06-07T21:44:00.545Z"
   },
   {
    "duration": 56,
    "start_time": "2024-06-07T21:44:00.614Z"
   },
   {
    "duration": 26,
    "start_time": "2024-06-07T21:44:00.672Z"
   },
   {
    "duration": 521,
    "start_time": "2024-06-07T21:44:00.701Z"
   },
   {
    "duration": 65,
    "start_time": "2024-06-07T21:44:01.225Z"
   },
   {
    "duration": 1075,
    "start_time": "2024-06-07T21:44:01.293Z"
   },
   {
    "duration": 65,
    "start_time": "2024-06-07T21:44:02.371Z"
   },
   {
    "duration": 14,
    "start_time": "2024-06-07T21:44:02.438Z"
   },
   {
    "duration": 80,
    "start_time": "2024-06-07T21:44:02.454Z"
   },
   {
    "duration": 818,
    "start_time": "2024-06-07T21:44:02.537Z"
   },
   {
    "duration": 5,
    "start_time": "2024-06-07T21:44:03.392Z"
   },
   {
    "duration": 4,
    "start_time": "2024-06-07T21:44:03.400Z"
   },
   {
    "duration": 3384,
    "start_time": "2024-06-07T21:44:03.406Z"
   },
   {
    "duration": 12,
    "start_time": "2024-06-07T21:44:06.794Z"
   },
   {
    "duration": 180,
    "start_time": "2024-06-07T21:44:06.811Z"
   },
   {
    "duration": 7,
    "start_time": "2024-06-07T21:44:06.994Z"
   },
   {
    "duration": 10,
    "start_time": "2024-06-07T21:44:07.007Z"
   },
   {
    "duration": 5,
    "start_time": "2024-06-07T21:44:07.020Z"
   },
   {
    "duration": 621,
    "start_time": "2024-06-07T21:44:07.029Z"
   },
   {
    "duration": 3,
    "start_time": "2024-06-07T21:44:07.654Z"
   },
   {
    "duration": 3,
    "start_time": "2024-06-07T21:44:07.661Z"
   },
   {
    "duration": 3,
    "start_time": "2024-06-07T21:44:07.691Z"
   },
   {
    "duration": 4,
    "start_time": "2024-06-07T21:44:07.698Z"
   },
   {
    "duration": 3,
    "start_time": "2024-06-07T21:44:07.712Z"
   },
   {
    "duration": 4,
    "start_time": "2024-06-07T21:44:07.718Z"
   },
   {
    "duration": 4,
    "start_time": "2024-06-07T21:44:07.725Z"
   },
   {
    "duration": 16,
    "start_time": "2024-06-08T21:06:26.911Z"
   }
  ],
  "colab": {
   "provenance": []
  },
  "kernelspec": {
   "display_name": "Python 3",
   "language": "python",
   "name": "python3"
  },
  "language_info": {
   "codemirror_mode": {
    "name": "ipython",
    "version": 3
   },
   "file_extension": ".py",
   "mimetype": "text/x-python",
   "name": "python",
   "nbconvert_exporter": "python",
   "pygments_lexer": "ipython3",
   "version": "3.10.6"
  },
  "toc": {
   "base_numbering": 1,
   "nav_menu": {},
   "number_sections": true,
   "sideBar": true,
   "skip_h1_title": true,
   "title_cell": "Table of Contents",
   "title_sidebar": "Contents",
   "toc_cell": false,
   "toc_position": {},
   "toc_section_display": true,
   "toc_window_display": false
  }
 },
 "nbformat": 4,
 "nbformat_minor": 4
}
